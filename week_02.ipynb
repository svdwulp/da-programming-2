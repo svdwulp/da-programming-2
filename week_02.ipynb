{
 "cells": [
  {
   "cell_type": "markdown",
   "metadata": {
    "slideshow": {
     "slide_type": "slide"
    }
   },
   "source": [
    "# Data Analysis - Programming - 2\n",
    "## Week 2"
   ]
  },
  {
   "cell_type": "markdown",
   "metadata": {
    "slideshow": {
     "slide_type": "fragment"
    }
   },
   "source": [
    "## Onderwerpen week 2\n",
    "\n",
    "- functies\n",
    "  - variable scope\n",
    "  - tricky arguments"
   ]
  },
  {
   "cell_type": "markdown",
   "metadata": {
    "slideshow": {
     "slide_type": "slide"
    }
   },
   "source": [
    "## Functies - variable scope (1)\n",
    "\n",
    "- 'scope' is Engels voor 'bereik'\n",
    "- variable scope beschrijft de reikwijdte van variabelen\n",
    "- in Python is een naam pas beschikbaar als er een waarde aan toegewezen is\n",
    "- de plaats waar een variabele wordt gemaakt, bepaald de scope\n",
    "- buiten de scope is de naam niet geldig"
   ]
  },
  {
   "cell_type": "markdown",
   "metadata": {
    "slideshow": {
     "slide_type": "fragment"
    }
   },
   "source": [
    "Voorbeeld waarin scope belangrijk is:\n",
    "```python\n",
    "def add_matrix(A, B):\n",
    "    C = []\n",
    "    for row_index in range(len(A)):\n",
    "        new_row = []\n",
    "        for col_index in range(len(row)):\n",
    "            new_row.append(A[row_index][col_index] + B[row_index][col_index])\n",
    "        C.append(new_row)\n",
    "\n",
    "A = [[1, 2, 3], [4, 5, 6], [8, 9, 10]]\n",
    "B = [[1, 0, 0], [0, 1, 0], [0, 0, 1]]\n",
    "add_matrix(A, B)\n",
    "print(C)\n",
    "```"
   ]
  },
  {
   "cell_type": "markdown",
   "metadata": {
    "slideshow": {
     "slide_type": "subslide"
    }
   },
   "source": [
    "## Functies - variable scope (2)\n",
    "\n",
    "![Matroesjka poppetjes](images/matroshka.jpg \"Matroesjka poppetjes\")\n",
    "- scopes worden gemaakt door:\n",
    "  - functies (def, lambda)\n",
    "  - modules (global)\n",
    "  - built-ins\n",
    "- scopes omvatten elkaar als matroesjka poppetjes\n",
    "- Python zal vanuit het binnenste poppetje naar buiten gaan zoeken,\n",
    "  tot een geldige naam gevonden is\n",
    "- namen in een nieuwe, kleinere scope verbergen namen in een grotere scope\n",
    "- de waarde van variabelen in een grotere scope zijn niet aanpasbaar"
   ]
  },
  {
   "cell_type": "code",
   "execution_count": 9,
   "metadata": {
    "collapsed": false,
    "slideshow": {
     "slide_type": "subslide"
    }
   },
   "outputs": [
    {
     "name": "stdout",
     "output_type": "stream",
     "text": [
      "10\n",
      "33\n",
      "10\n"
     ]
    }
   ],
   "source": [
    "# Voorbeeld:\n",
    "def bepaal_som(a, b):\n",
    "    som = a + b\n",
    "    print(som)\n",
    "\n",
    "som = 10\n",
    "print(som)\n",
    "bepaal_som(11, 22)\n",
    "print(som)"
   ]
  },
  {
   "cell_type": "markdown",
   "metadata": {
    "collapsed": true,
    "slideshow": {
     "slide_type": "subslide"
    }
   },
   "source": [
    "## Functies - variable scope (3)\n",
    "\n",
    "- je kunt een waarde in een grotere scope veranderen  \n",
    "door de naam als 'global' te definieren in de nieuwe, kleinere scope"
   ]
  },
  {
   "cell_type": "code",
   "execution_count": 10,
   "metadata": {
    "collapsed": false,
    "slideshow": {
     "slide_type": "subslide"
    }
   },
   "outputs": [
    {
     "name": "stdout",
     "output_type": "stream",
     "text": [
      "10\n",
      "33\n",
      "33\n"
     ]
    }
   ],
   "source": [
    "# Voorbeeld:\n",
    "def bepaal_som(a, b):\n",
    "    global som\n",
    "    som = a + b\n",
    "    print(som)\n",
    "\n",
    "som = 10\n",
    "print(som)\n",
    "bepaal_som(11, 22)\n",
    "print(som)"
   ]
  },
  {
   "cell_type": "markdown",
   "metadata": {
    "slideshow": {
     "slide_type": "slide"
    }
   },
   "source": [
    "## Functies - tricky arguments (1)\n",
    "\n",
    "- ook de waarde van argumenten bij functies  \n",
    "kan niet worden aangepast binnen de functie\n",
    "\n",
    "```python\n",
    "def som(a, b, c):\n",
    "    c = a + b\n",
    "    \n",
    "z = 0\n",
    "som(11, 22, z)\n",
    "print(z)\n",
    "```\n",
    "\n",
    "- probeer bij het schrijven van functies dan ook  \n",
    "zo min mogelijk globale variabelen te gebruiken,  \n",
    "dat voorkomt verwarring en vergissingen"
   ]
  },
  {
   "cell_type": "markdown",
   "metadata": {
    "slideshow": {
     "slide_type": "subslide"
    }
   },
   "source": [
    "## Functies - tricky arguments (2)\n",
    "\n",
    "- houd rekening met de werking van variabelen als lists in Python  \n",
    "wanneer je ze gebruikt als functie argument!"
   ]
  },
  {
   "cell_type": "code",
   "execution_count": 11,
   "metadata": {
    "collapsed": false,
    "slideshow": {
     "slide_type": "subslide"
    }
   },
   "outputs": [
    {
     "name": "stdout",
     "output_type": "stream",
     "text": [
      "[1, 2, 3, 'a', 'b', 'c']\n"
     ]
    }
   ],
   "source": [
    "def append(a, b, c):\n",
    "    for elem in a:\n",
    "        c.append(elem)\n",
    "    for elem in b:\n",
    "        c.append(elem)\n",
    "\n",
    "c = []\n",
    "append([1, 2, 3], [\"a\", \"b\", \"c\"], c)\n",
    "print(c)"
   ]
  },
  {
   "cell_type": "markdown",
   "metadata": {
    "slideshow": {
     "slide_type": "slide"
    }
   },
   "source": [
    "## Functies\n",
    "\n",
    "- deel je programma's op in functies  \n",
    "waarbij iedere functie een duidelijk omschreven doel dient\n",
    "- functies langer dan 10 regels code zijn vaak al te lang!\n",
    "- houd wijzigingen door functies beperkt tot binnen de functie,  \n",
    "probeer alleen de return value elders te gebruiken"
   ]
  },
  {
   "cell_type": "code",
   "execution_count": null,
   "metadata": {
    "collapsed": true
   },
   "outputs": [],
   "source": []
  }
 ],
 "metadata": {
  "celltoolbar": "Slideshow",
  "kernelspec": {
   "display_name": "Python 3",
   "language": "python",
   "name": "python3"
  },
  "language_info": {
   "codemirror_mode": {
    "name": "ipython",
    "version": 3
   },
   "file_extension": ".py",
   "mimetype": "text/x-python",
   "name": "python",
   "nbconvert_exporter": "python",
   "pygments_lexer": "ipython3",
   "version": "3.5.1"
  }
 },
 "nbformat": 4,
 "nbformat_minor": 0
}
