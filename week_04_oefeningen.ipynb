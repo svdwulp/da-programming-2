{
 "cells": [
  {
   "cell_type": "markdown",
   "metadata": {},
   "source": [
    "# Data Analysis - Programming\n",
    "## Week 4\n",
    "## Oefeningen\n",
    "\n",
    "#### Opmerkingen vooraf\n",
    "Er zijn deze week twee opgaven die alleen zijn bedoeld om je problemen te laten oplossen met behulp van je programmeervaardigheden.  \n",
    "\n",
    "De problemen zijn heel open en moeilijk. Bij iedere opgave geldt dat er niet één enkel goed antwoord is.  \n",
    "Tevens is het teveel werk meerdere problemen op te lossen. Kies er eentje die je aanspreekt, denk daar over na en probeer het probleem aan te pakken."
   ]
  },
  {
   "cell_type": "markdown",
   "metadata": {},
   "source": [
    "### Oefening 1 <img src=\"images/stars_2.png\" alt=\"2 star\" style=\"display: inline; margin-top: -5px\" />\n",
    "\n",
    "<span>a.</span> Je telefoon kan worden ingesteld om, gegeven het eerste deel van een woord, woorden voor te stellen die je wellicht zou willen typen.  \n",
    "Schrijf een Python-functie die een lijstje met mogelijke voorstellen levert voor een gegeven (eerste) deel van een woord.  \n",
    "\n",
    "Je kunt, desgewenst, gebruik maken van het bestand [dutch96.words](data/dutch96.words).\n",
    "\n",
    "<span>b.</span> Je telefoon kan ook voorstellen doen voor verbetering met een ingebouwde spellchecker door te kijken of er woorden zijn die 'lijken' op het gegeven woord.  \n",
    "Schrijf een Python-functie die een lijstje met mogelijke verbeteringen levert voor een gegeven, goed of verkeerd gespeld, woord."
   ]
  },
  {
   "cell_type": "markdown",
   "metadata": {},
   "source": [
    "### Oefening 2 <img src=\"images/stars_3.png\" alt=\"3 star\" style=\"display: inline; margin-top: -5px\" />\n",
    "\n",
    "In de slides van week 4 vind je code waarmee je de historie van beurskoersen kunt downloaden.  \n",
    "Kun je, gegeven enkele namen van bedrijven, aangeven welk bedrijf op korte termijn (zeg een half jaar) naar verwachting het hoogste rendement op zou leveren?\n",
    "\n",
    "Voor namen van enkele beursgenoteerde bedrijven zou je kunnen starten met Microsoft, Google, Apple en IBM."
   ]
  },
  {
   "cell_type": "markdown",
   "metadata": {},
   "source": [
    "### Oefening 3 <img src=\"images/stars_3.png\" alt=\"3 star\" style=\"display: inline; margin-top: -5px\" />\n",
    "\n",
    "In [deze zipfile](data/alices.zip) vind je enkele fragmenten van een boek in verschillende talen.  \n",
    "\n",
    "Schrijf een Python-functie die, gebruikmakend van deze 'voorbeeldbestanden', voor een gegeven tekst de taal kan bepalen.\n",
    "Gebruik andere boeken of bijvoorbeeld tekstflarden van wikipedia om je functie te testen."
   ]
  },
  {
   "cell_type": "code",
   "execution_count": null,
   "metadata": {
    "collapsed": true
   },
   "outputs": [],
   "source": []
  }
 ],
 "metadata": {
  "kernelspec": {
   "display_name": "Python 3",
   "language": "python",
   "name": "python3"
  },
  "language_info": {
   "codemirror_mode": {
    "name": "ipython",
    "version": 3
   },
   "file_extension": ".py",
   "mimetype": "text/x-python",
   "name": "python",
   "nbconvert_exporter": "python",
   "pygments_lexer": "ipython3",
   "version": "3.5.1"
  }
 },
 "nbformat": 4,
 "nbformat_minor": 0
}
