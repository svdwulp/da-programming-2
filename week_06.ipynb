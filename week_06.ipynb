{
 "cells": [
  {
   "cell_type": "markdown",
   "metadata": {
    "slideshow": {
     "slide_type": "slide"
    }
   },
   "source": [
    "# Data Analysis - Programming - 2\n",
    "## Week 6"
   ]
  },
  {
   "cell_type": "markdown",
   "metadata": {
    "slideshow": {
     "slide_type": "fragment"
    }
   },
   "source": [
    "## Onderwerpen week 6\n",
    "\n",
    "- toets week 5\n",
    "- NumPy\n",
    "  - array (ndarray), vectorization"
   ]
  },
  {
   "cell_type": "markdown",
   "metadata": {
    "slideshow": {
     "slide_type": "slide"
    }
   },
   "source": [
    "## Toets week 5 (1)\n",
    "\n",
    "‘Cone-rod homeobox’ (CRX) is een eiwit dat bij mensen een rol speelt in de werking van de staafjes en kegeltjes, de lichtgevoelige cellen in het netvlies. Menselijk DNA bevat op chromosoom 19 een gen dat, simpel gezegd, de bouw van dit eiwit beschrijft. Afwijkingen in dit gen kunnen ervoor zorgen dat de lichtgevoelige cellen niet correct functioneren.\n",
    "In het eerste deel van deze opgave (a en b) schrijf je een deel van een progamma dat een frequentietabel van de nucleotiden in dit gen afdrukt. In het tweede deel van deze opgave (c) bereken je de kans op een sterk afwijkend gen.\n",
    "\n",
    "<span>a.</span>\t \n",
    "In het bestand *“dna_conerod_homeobox.txt”* is het referentie genoom opgeslagen voor het gen dat CRX produceert. Zo’n beschrijving van het genoom bestaat uit de letters A, C, G en T: afkortingen voor de nucleotiden (adenine, cytosine, guanine en thymine) waaruit het gen bestaat.  \n",
    "Vul de functie *read_dna_file()* in zodat een list met de regels uit het bestand wordt teruggegeven als resultaat van de functie. Deze list bevat een string voor iedere regel in het bestand en iedere string bestaat uit de letters A, C, G en T.\n",
    "Let erop dat de functie de regeleinden (newline karakters) niet teruggeeft.\n",
    "\n",
    "<span>b.</span>  \n",
    "De functie *print_freq()* drukt de frequentietabel af met de frequentie van de letters A, C, G en T op basis van een dictionary met frequenties zoals aangeleverd wordt door de functie *calculate_freq()*.\n",
    "Pas de functie *print_freq()* aan zodat de laatste regel het correcte totaal voor de frequenties toont."
   ]
  },
  {
   "cell_type": "markdown",
   "metadata": {
    "slideshow": {
     "slide_type": "subslide"
    }
   },
   "source": [
    "## Toets week 5 (2)\n",
    "\n",
    "Inhoud bestand *dna_conerod_homeobox.txt*:\n",
    "\n",
    "```\n",
    "TTTTCTTTTGCATTTCCCTGATGATCAATGAATGTGAGCCCAGTTTTATACACTGGTGGA\n",
    "TTATTTGCTATTCTCACTTTTGAAATGCCTGTATAAGTCTTCTGCAACCTGGTTGAATAT\n",
    "CAGGCATTGATGTTTTATGATCTCAAATGGTGGAACAAGGGAGATCAGTGTCCTTGCCCT\n",
    "GGGGATCAGCCTGGGAGGCCCAAGGCTAGTTCTCAGAGCTGTGGAGTTCGGCACCCACTG\n",
    "GGTCCCAGGTTCCCACCTGAGCAGTTGTTCTCACAGGTAAGGCCTGAATGCTCACAGCCA\n",
    "...\n",
    "TCTCCCAGCCTCAATTTCCCCACCTGTAGCATGGAGCATCTAAGGAGACCCATCTCAAGA\n",
    "GAACAAAATGATGTTATTCTATTAATTATGGACCTGAAGCCGGGTCCAGGGTAAGAGCTC\n",
    "AATAAATATTTATCTATTTTGTGGTAAAATACACATACTATAAAATGTACCACTTTTCCC\n",
    "ATTGCATGATTCTTAATTCATTTTTTCCATTTTAAGTTACTTAATTCAGTGGCATTAAGT\n",
    "ACATTCACAGAAGAAGCCAGACACAAAGACCATATATTGTATTATCCTA\n",
    "```"
   ]
  },
  {
   "cell_type": "code",
   "execution_count": 4,
   "metadata": {
    "collapsed": false,
    "slideshow": {
     "slide_type": "subslide"
    }
   },
   "outputs": [
    {
     "name": "stdout",
     "output_type": "stream",
     "text": [
      "Nucleotide Frequency\n",
      "a               6876\n",
      "c               6782\n",
      "g               7176\n",
      "t               7655\n",
      "Total          28489\n"
     ]
    }
   ],
   "source": [
    "def read_dna_file(filename):\n",
    "    # opgave 3a\n",
    "    lines = []\n",
    "    with open(filename, \"r\") as f:\n",
    "        for line in f:\n",
    "            lines.append(line.rstrip())\n",
    "    return lines\n",
    "\n",
    "\n",
    "def calculate_freq(dna_sequence):\n",
    "    freq = {}\n",
    "    for line in dna_sequence:\n",
    "        for nucleotide in line:\n",
    "            if nucleotide in freq:\n",
    "                freq[nucleotide] += 1\n",
    "            else:\n",
    "                freq[nucleotide] = 1\n",
    "    return freq\n",
    "\n",
    "\n",
    "def calculate_freq2(dna_sequence):\n",
    "    nucleotides = \"ACGT\"\n",
    "    freq = [0] * len(nucleotides)\n",
    "    for line in dna_sequence:\n",
    "        for nucleotide in line:\n",
    "            freq[nucleotides.index(nucleotide)] += 1\n",
    "    return freq\n",
    "\n",
    "\n",
    "def print_freq(freq):\n",
    "    print(\"{:<10} {:>9}\".format(\"Nucleotide\", \"Frequency\"))\n",
    "    for nucleotide, frequency in sorted(freq.items()):\n",
    "        print(\"{:<10} {:>9}\".format(nucleotide, frequency))\n",
    "    # opgave 3b\n",
    "    total_freq = sum(freq.values())\n",
    "    print(\"{:<10} {:>9}\".format(\"Total\", total_freq))\n",
    "\n",
    "\n",
    "dna_sequence = read_dna_file(\"data/dna_conerod_homeobox.txt\")\n",
    "freq = calculate_freq(dna_sequence)\n",
    "print_freq(freq)"
   ]
  },
  {
   "cell_type": "markdown",
   "metadata": {
    "slideshow": {
     "slide_type": "slide"
    }
   },
   "source": [
    "## NumPy (1)\n",
    "\n",
    "- Python for Data Analysis, chapter 4  \n",
    "  *lezen*  \n",
    "  [download](http://www.cin.ufpe.br/~embat/Python%20for%20Data%20Analysis.pdf)\n",
    "\n",
    "- Numerical Python:  \n",
    "  - bibliotheken met datastructuren en functies  \n",
    "    voor wiskunde en matrixrekenen\n",
    "  - gebouwd op libraries in Fortran en C,  \n",
    "    dezelfde bibliotheken die bijvoorbeeld ten grondslag liggen  \n",
    "    aan MATLAB en R\n",
    "  - bevat zelf weinig functies voor data analyse  \n",
    "    maar begrip van de datastructuren is van belang voor  \n",
    "    het gebruik van andere bibliotheken (voor ons: Pandas)\n",
    "\n",
    "\n",
    "- gebruik:  \n",
    "  je kunt NumPy los gebruiken,  \n",
    "  maar in Jupyter Notebook is het handiger  \n",
    "  alle veelgebruikte `imports` in één keer binnen te hengelen:\n",
    "```python\n",
    "%pylab\n",
    "%matplotlib inline\n",
    "```"
   ]
  },
  {
   "cell_type": "markdown",
   "metadata": {
    "collapsed": true,
    "slideshow": {
     "slide_type": "subslide"
    }
   },
   "source": [
    "## NumPy - arrays (2)\n",
    "\n",
    "- in NumpPy is de array (ndarray) het belangrijkste datatype\n",
    "- ndarray is een multidimensionaal array datatype\n",
    "- arrays zijn geoptimaliseerd om snel operaties op alle elementen uit te voeren\n",
    "\n",
    "\n",
    "- maak een array bijv. met:\n",
    "  - `array()`\n",
    "  - `zeros()` of `ones()`\n",
    "- i.t.t. Python lists, hebben arrays hebben een vast datatype\n",
    "- standaard array indexing en slicing  \n",
    "  lijkt op list indexing en slicing,  \n",
    "  maar dan multidimensionaal:  \n",
    "  `sample[4:8,0]`  - rij indices 4 t/m 7, kolom 0\n",
    "- ondersteunt andere vormen van indexing,  \n",
    "  bijvoorbeeld boolean indexing"
   ]
  },
  {
   "cell_type": "markdown",
   "metadata": {
    "slideshow": {
     "slide_type": "subslide"
    }
   },
   "source": [
    "## NumPy - arrays (3)\n",
    "\n",
    "\n",
    "- array operaties:\n",
    "  - array met scalair\n",
    "  - array met array\n",
    "  - array functies:\n",
    "    - universal functions (maths)  \n",
    "      worden op ieder element toegepast\n",
    "    - (eenvoudige) statistische functies\n",
    "    - lineaire algebra\n",
    "    - etc."
   ]
  },
  {
   "cell_type": "code",
   "execution_count": null,
   "metadata": {
    "collapsed": true
   },
   "outputs": [],
   "source": []
  }
 ],
 "metadata": {
  "celltoolbar": "Slideshow",
  "kernelspec": {
   "display_name": "Python 3",
   "language": "python",
   "name": "python3"
  },
  "language_info": {
   "codemirror_mode": {
    "name": "ipython",
    "version": 3
   },
   "file_extension": ".py",
   "mimetype": "text/x-python",
   "name": "python",
   "nbconvert_exporter": "python",
   "pygments_lexer": "ipython3",
   "version": "3.5.1"
  }
 },
 "nbformat": 4,
 "nbformat_minor": 0
}
