{
 "cells": [
  {
   "cell_type": "markdown",
   "metadata": {},
   "source": [
    "# Data Analysis - Programming\n",
    "## Week 3\n",
    "## Oefeningen"
   ]
  },
  {
   "cell_type": "markdown",
   "metadata": {},
   "source": [
    "### Oefening 1 <img src=\"images/stars_1.png\" alt=\"1 star\" style=\"display: inline; margin-top: -5px\" />\n",
    "\n",
    "Er zijn 36 mogelijke combinaties voor het aantal ogen dat je gooit met twee dobbelstenen ((1, 1), (1, 2), … , (6, 6)). Vaak is men geïnteresseerd in de som van het aantal ogen. Maak een dictionary met de som van het aantal ogen als key, en een list van tuples van alle bijbehorende combinaties als value."
   ]
  },
  {
   "cell_type": "markdown",
   "metadata": {
    "collapsed": true
   },
   "source": [
    "### Oefening 2\n",
    "\n",
    "a) Kun je het onderstaande dictionary afdrukken naar het scherm, waarbij gesorteerd wordt op keys? <img src=\"images/stars_1.png\" alt=\"1 star\" style=\"display: inline; margin-top: -5px\" />\n",
    "\n",
    "```python\n",
    "d = {\n",
    "    \"Nederland\": 7,\n",
    "    \"Frankrijk\": 4,\n",
    "    \"Belgie\": 8,\n",
    "    \"Duitsland\": 6,\n",
    "    \"Luxemburg\": 9,\n",
    "}\n",
    "```\n",
    "\n",
    "b) Kun je het dictionary uit a) ook afdrukken naar het scherm gesorteerd op value, aflopend? <img src=\"images/stars_2.png\" alt=\"2 star\" style=\"display: inline; margin-top: -5px\" />"
   ]
  },
  {
   "cell_type": "markdown",
   "metadata": {},
   "source": [
    "### Oefening 3\n",
    "\n",
    "a) Gebruik een dictionary om een frequentietabel te maken van de onderstaande  tekst (uit \"Alice's Adventures in Wonderland\" van Lewis Carroll). Probeer alleen de letters te tellen (niet de leestekens) en maak daarbij geen onderscheid tussen hoofd- en kleine letters. <img src=\"images/stars_1.png\" alt=\"1 star\" style=\"display: inline; margin-top: -5px\" />  \n",
    "Ter controle: er zitten 105 letters 'a' in de tekst, dus als je frequentietabel `freq` heet, zal `freq['a'] == 105` gelden.\n",
    "\n",
    "b) Kun je ook de woorden tellen in de tekst? Dus maak een frequentietabel waarbij de woorden uit de tekst de key zijn en hun frequentie de bijbehorende value. Probeer wederom leestekens en hoofd-/kleine letters te negeren. <img src=\"images/stars_2.png\" alt=\"2 star\" style=\"display: inline; margin-top: -5px\" />  \n",
    "Ter controle: het woord 'alice' komt 6 keer voor in de tekst.\n",
    "\n",
    "c) Zoek zelf uit wat het datatype (de class) `Counter` uit de module `collections` doet. Kun je de bovenstaande vragen (makkelijker) a) en b) implementeren met behulp van deze ingebouwde functionaliteit? <img src=\"images/stars_3.png\" alt=\"3 star\" style=\"display: inline; margin-top: -5px\" />"
   ]
  },
  {
   "cell_type": "code",
   "execution_count": 22,
   "metadata": {
    "collapsed": true
   },
   "outputs": [],
   "source": [
    "text_alice = \"\"\"ALICE was beginning to get very tired of sitting by her\n",
    "sister on the bank, and of having nothing to do: once or twice she had\n",
    "peeped into the book her sister was reading, but it had no pictures or\n",
    "conversations in it, and what is the use of a book, thought Alice,\n",
    "without pictures or conversations?\n",
    "\n",
    "So she was considering in her own mind (as well as she could, for the\n",
    "hot day made her feel very sleepy and stupid) whether the pleasure of\n",
    "making a daisy chain would be worth the trouble of getting up and\n",
    "picking the daisies, when suddenly a White Rabbit with pink eyes ran\n",
    "close by her.\n",
    "\n",
    "There was nothing so very remarkable in that; nor did Alice think it\n",
    "so very much out of the way to hear the Rabbit say to itself, Oh\n",
    "dear! Oh dear! I shall be too late! (when she thought it over\n",
    "afterwards, it occurred to her that she ought to have wondered at this,\n",
    "but at the time it all seemed quite natural); but when the Rabbit\n",
    "actually took a watch out of its waistcoat pocket, and looked at it,\n",
    "and then hurried on, Alice started to her feet, for it flashed across\n",
    "her mind that she had never before seen a rabbit with either a\n",
    "waistcoat pocket, or a watch to take out of it, and burning with\n",
    "curiosity, she ran across the field after it, and was just in time to\n",
    "see it pop down a large rabbit hole under the hedge.\n",
    "\n",
    "In another moment down went Alice after it, never once considering how\n",
    "in the world she was to get out again.\n",
    "\n",
    "The rabbit hole went straight on like a tunnel for some way, and then\n",
    "dipped suddenly down, so suddenly that Alice had not a moment to think\n",
    "about stopping herself before she found herself falling down what seemed\n",
    "to be a very deep well.\"\"\""
   ]
  },
  {
   "cell_type": "code",
   "execution_count": null,
   "metadata": {
    "collapsed": true
   },
   "outputs": [],
   "source": []
  }
 ],
 "metadata": {
  "kernelspec": {
   "display_name": "Python 3",
   "language": "python",
   "name": "python3"
  },
  "language_info": {
   "codemirror_mode": {
    "name": "ipython",
    "version": 3
   },
   "file_extension": ".py",
   "mimetype": "text/x-python",
   "name": "python",
   "nbconvert_exporter": "python",
   "pygments_lexer": "ipython3",
   "version": "3.5.1"
  }
 },
 "nbformat": 4,
 "nbformat_minor": 0
}
