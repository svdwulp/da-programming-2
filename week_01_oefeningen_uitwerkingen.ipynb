{
 "cells": [
  {
   "cell_type": "markdown",
   "metadata": {},
   "source": [
    "# Data Analysis - Programming\n",
    "## Week 1\n",
    "## Oefeningen\n",
    "\n",
    "### Moeilijkheidsgraad\n",
    "\n",
    "Omdat sommige van de onderstaande oefeningen wat lastiger zijn dan andere, is een indicatie van de moeilijkheidsgraad toegevoegd.\n",
    "\n",
    "De volgende niveau's worden daarbij onderscheiden:\n",
    "- <img src=\"images/stars_1.png\" alt=\"1 star\" style=\"display: inline\" /> oefening van behandelde onderwerpen\n",
    "- <img src=\"images/stars_2.png\" alt=\"2 stars\" style=\"display: inline\" /> verdieping van behandelde onderwerpen\n",
    "- <img src=\"images/stars_3.png\" alt=\"3 stars\" style=\"display: inline\" /> uitdaging, stof tot nadenken"
   ]
  },
  {
   "cell_type": "markdown",
   "metadata": {},
   "source": [
    "### Oefening 1\n",
    "\n",
    "Schrijf een programma om ...\n",
    "\n",
    "<span>a.</span> een temperatuur in graden Celcius om te zetten naar een temperatuur in Fahrenheit. Schrijf daarvoor een functie `print_celcius_to_fahrenheit(degrees_C)` die de opgegeven temperatuur in graden Celcius omzet naar Fahrenheit en het resultaat afdrukt naar het scherm. <img src=\"images/stars_1.png\" alt=\"1 star\" style=\"display: inline; margin-top: -5px\" />"
   ]
  },
  {
   "cell_type": "code",
   "execution_count": 11,
   "metadata": {
    "collapsed": false
   },
   "outputs": [
    {
     "name": "stdout",
     "output_type": "stream",
     "text": [
      "Temperature in degrees Fahrenheit:  32.0\n",
      "Temperature in degrees Fahrenheit:  41.0\n",
      "Temperature in degrees Fahrenheit: 101.5\n",
      "Temperature in degrees Fahrenheit: 212.0\n"
     ]
    }
   ],
   "source": [
    "# opgave 1a\n",
    "def print_celcius_to_fahrenheit(degrees_C):\n",
    "    degrees_F = degrees_C * (9/5) + 32\n",
    "    print(\"Temperature in degrees Fahrenheit: {:5.1f}\".format(degrees_F))\n",
    "\n",
    "print_celcius_to_fahrenheit(0)\n",
    "print_celcius_to_fahrenheit(5)\n",
    "print_celcius_to_fahrenheit(38.61)\n",
    "print_celcius_to_fahrenheit(100)"
   ]
  },
  {
   "cell_type": "markdown",
   "metadata": {},
   "source": [
    "<span>b.</span> een temperatuur in graden Fahrenheit om te zetten naar een temperatuur in Celcius. Schrijf daarvoor een functie `convert_fahrenheit_to_celcius(degrees_F)` die de opgegeven temperatuur in graden Fahrenheit omzet naar Celcius en het resultaat teruggeeft als resultaat van de functie-aanroep. <img src=\"images/stars_1.png\" alt=\"1 star\" style=\"display: inline; margin-top: -5px\" />"
   ]
  },
  {
   "cell_type": "code",
   "execution_count": 13,
   "metadata": {
    "collapsed": false
   },
   "outputs": [
    {
     "name": "stdout",
     "output_type": "stream",
     "text": [
      "Temperature in degrees Celcius:   0.0\n",
      "Temperature in degrees Celcius:   5.0\n",
      "Temperature in degrees Celcius:  38.6\n",
      "Temperature in degrees Celcius: 100.0\n"
     ]
    }
   ],
   "source": [
    "# opgave 1b\n",
    "def convert_fahrenheit_to_celcius(degrees_F):\n",
    "    degrees_C = (degrees_F - 32) / (9/5)\n",
    "    return degrees_C\n",
    "\n",
    "print(\"Temperature in degrees Celcius: {:5.1f}\".format(convert_fahrenheit_to_celcius(32)))\n",
    "print(\"Temperature in degrees Celcius: {:5.1f}\".format(convert_fahrenheit_to_celcius(41)))\n",
    "print(\"Temperature in degrees Celcius: {:5.1f}\".format(convert_fahrenheit_to_celcius(101.5)))\n",
    "print(\"Temperature in degrees Celcius: {:5.1f}\".format(convert_fahrenheit_to_celcius(212)))"
   ]
  },
  {
   "cell_type": "markdown",
   "metadata": {},
   "source": [
    "### Oefening 2\n",
    "\n",
    "Schrijf een functie om ...\n",
    "\n",
    "de hoogte van een omhoog geworpen object op een tijdstip $t$ te bepalen.  \n",
    "De hoogte wordt beschreven door:  \n",
    "$y_t = v_0 t - \\frac{1}{2} g t^2$  \n",
    "waarbij $g$ de valversnelling is. Je mag $g = 9.81$ aannemen.  \n",
    "De hoogte van het geworpen object hangt dan alleen af van $v_0$ en $t$.\n",
    "\n",
    "Noem je functie `calculate_height(t, v0)` en laat de uitgerekende hoogte teruggeven als resultaat van de functie.  \n",
    "\n",
    "Schrijf een loopje waarmee je de functie kunt testen. Kies daarvoor een aanvangssnelheid $v_0$ en laat voor oplopende tijdstippen $t$ de hoogte van het object uitrekenen. <img src=\"images/stars_1.png\" alt=\"1 star\" style=\"display: inline; margin-top: -5px\" />"
   ]
  },
  {
   "cell_type": "code",
   "execution_count": 19,
   "metadata": {
    "collapsed": false
   },
   "outputs": [
    {
     "name": "stdout",
     "output_type": "stream",
     "text": [
      "Height at t=0.0 = 0.000\n",
      "Height at t=0.1 = 0.451\n",
      "Height at t=0.2 = 0.804\n",
      "Height at t=0.3 = 1.059\n",
      "Height at t=0.4 = 1.215\n",
      "Height at t=0.5 = 1.274\n",
      "Height at t=0.6 = 1.234\n",
      "Height at t=0.7 = 1.097\n",
      "Height at t=0.8 = 0.861\n",
      "Height at t=0.9 = 0.527\n",
      "Height at t=1.0 = 0.095\n",
      "Height at t=1.1 = -0.435\n"
     ]
    }
   ],
   "source": [
    "# opgave 2\n",
    "def calculate_height(t, v0):\n",
    "    g = 9.81\n",
    "    return v0 * t - 0.5 * g * t**2\n",
    "\n",
    "v0 = 5\n",
    "for i in range(12):\n",
    "    t = i * 0.1\n",
    "    height = calculate_height(t, v0)\n",
    "    print(\"Height at t={:.1f} = {:.3f}\".format(t, height))"
   ]
  },
  {
   "cell_type": "markdown",
   "metadata": {},
   "source": [
    "### Oefening 3\n",
    "\n",
    "Schrijf een functie die ...\n",
    "\n",
    "<span>a.</span> een tabel met de eerste 10 machtsverheffingen $n^0$, $n^1$, $n^2$, ..., $n^9$ van een opgegeven getal afdrukt naar het scherm. <img src=\"images/stars_1.png\" alt=\"1 star\" style=\"display: inline; margin-top: -5px\" />"
   ]
  },
  {
   "cell_type": "code",
   "execution_count": 20,
   "metadata": {
    "collapsed": false
   },
   "outputs": [
    {
     "name": "stdout",
     "output_type": "stream",
     "text": [
      "0 1\n",
      "1 2\n",
      "2 4\n",
      "3 8\n",
      "4 16\n",
      "5 32\n",
      "6 64\n",
      "7 128\n",
      "8 256\n",
      "9 512\n"
     ]
    }
   ],
   "source": [
    "# opgave 3a\n",
    "def print_powers(n):\n",
    "    for i in range(10):\n",
    "        print(i, n**i)\n",
    "\n",
    "print_powers(2)"
   ]
  },
  {
   "cell_type": "markdown",
   "metadata": {},
   "source": [
    "<span>b.</span> de eerste 10 machtsverheffingen (zie a.) van een opgegeven getal teruggeeft als resultaat van de functie-aanroep. Omdat je meerdere getallen terug moet geven, zou je bijvoorbeeld een lijst kunnen gebruiken als resultaat van de functie-aanroep. <img src=\"images/stars_1.png\" alt=\"1 star\" style=\"display: inline; margin-top: -5px\" />"
   ]
  },
  {
   "cell_type": "code",
   "execution_count": 24,
   "metadata": {
    "collapsed": false
   },
   "outputs": [
    {
     "name": "stdout",
     "output_type": "stream",
     "text": [
      "[1, 2, 4, 8, 16, 32, 64, 128, 256, 512]\n"
     ]
    }
   ],
   "source": [
    "# opgave 3b\n",
    "# opgave 3a\n",
    "def calculate_powers(n):\n",
    "    result = []\n",
    "    for i in range(10):\n",
    "        result.append(n**i)\n",
    "    return result\n",
    "\n",
    "print(calculate_powers(2))"
   ]
  },
  {
   "cell_type": "markdown",
   "metadata": {},
   "source": [
    "### Oefening 4\n",
    "\n",
    "Schrijf een functie die ...\n",
    "\n",
    "<span>a.</span> een vierkante nulmatrix met opgegeven afmeting produceert als resultaat van de functie. Representeer de matrix als een geneste list. <img src=\"images/stars_1.png\" alt=\"1 star\" style=\"display: inline; margin-top: -5px\" />  \n",
    "Voorbeeld van een aanroep en bijbehorende output:\n",
    "\n",
    "```python\n",
    ">>> A = create_0_matrix(4)\n",
    ">>> print(A)\n",
    "[[0, 0, 0, 0], [0, 0, 0, 0], [0, 0, 0, 0], [0, 0, 0, 0]]\n",
    ">>> A[1][1] = 4\n",
    ">>> print(A)\n",
    "[[0, 0, 0, 0], [0, 4, 0, 0], [0, 0, 0, 0], [0, 0, 0, 0]]\n",
    "```"
   ]
  },
  {
   "cell_type": "code",
   "execution_count": 31,
   "metadata": {
    "collapsed": false
   },
   "outputs": [
    {
     "name": "stdout",
     "output_type": "stream",
     "text": [
      "[[0, 0, 0, 0], [0, 0, 0, 0], [0, 0, 0, 0], [0, 0, 0, 0]]\n",
      "[[0, 0, 0, 0], [0, 4, 0, 0], [0, 0, 0, 0], [0, 0, 0, 0]]\n"
     ]
    }
   ],
   "source": [
    "# opgave 4a\n",
    "def create_0_matrix(size):\n",
    "    result = []\n",
    "    for i in range(size):\n",
    "        result.append([0] * size)\n",
    "    return result\n",
    "\n",
    "A = create_0_matrix(4)\n",
    "print(A)\n",
    "A[1][1] = 4\n",
    "print(A)"
   ]
  },
  {
   "cell_type": "markdown",
   "metadata": {},
   "source": [
    "<span>b.</span> een opgegeven matrix, in geneste list-vorm, afdrukt naar het scherm. Begin met een vaste afmeting voor de elementen, bijvoorbeeld 3 karakters, om een nette, leesbare matrix af te drukken. Je mag er in de functie vanuit gaan dat de aangeleverde nested list, de matrix, netjes op orde is. <img src=\"images/stars_2.png\" alt=\"2 star\" style=\"display: inline; margin-top: -5px\" />  \n",
    "Voorbeeld van een aanroep en de bijbehorende output:\n",
    "\n",
    "```python\n",
    ">>> print_matrix([[1, 0, 0, 0], [0, 1, 0, 0], [0, 0, 1, 0]])\n",
    "  1   0   0   0\n",
    "  0   1   0   0\n",
    "  0   0   1   0\n",
    "```"
   ]
  },
  {
   "cell_type": "code",
   "execution_count": 35,
   "metadata": {
    "collapsed": false
   },
   "outputs": [
    {
     "name": "stdout",
     "output_type": "stream",
     "text": [
      "  1  0  0  0\n",
      "  0  1  0  0\n",
      "  0  0  1  0\n"
     ]
    }
   ],
   "source": [
    "# opgave 4b\n",
    "def print_matrix(matrix):\n",
    "    width = 3\n",
    "    for row in matrix:\n",
    "        for elem in row:\n",
    "            print(\"{:{}}\".format(elem, width), end=\"\")\n",
    "        print()\n",
    "\n",
    "print_matrix([[1, 0, 0, 0], [0, 1, 0, 0], [0, 0, 1, 0]])"
   ]
  },
  {
   "cell_type": "markdown",
   "metadata": {},
   "source": [
    "<span>c.</span> een matrix naar het scherm afdrukt, zoals in 4b. Bepaal de breedte van alle kolommen door de breedte van het breedste element van de matrix te bepalen met een zelf te schrijven functie `get_max_width(matrix)`. <img src=\"images/stars_3.png\" alt=\"3 star\" style=\"display: inline; margin-top: -5px\" />  \n",
    "Voorbeeld van een aanroep en de bijbehorende output:\n",
    "\n",
    "```python\n",
    ">>> print_matrix([[1, 0, 0, 0], [0, 1, 0, 0], [0, 0, 1, 0]])\n",
    "1 0 0 0\n",
    "0 1 0 0\n",
    "0 0 1 0\n",
    ">>> print_matrix([[1, 0, 0, 0], [0, 248, 0, 0], [0, 0, 1, 0]])\n",
    "  1   0   0   0\n",
    "  0 248   0   0\n",
    "  0   0   1   0\n",
    ">>> print_matrix([[1, 0, 0, 0], [0, -16, 0, 0], [0, 0, 1, 0]])\n",
    "  1   0   0   0\n",
    "  0 -16   0   0\n",
    "  0   0   1   0\n",
    "```"
   ]
  },
  {
   "cell_type": "code",
   "execution_count": 41,
   "metadata": {
    "collapsed": false
   },
   "outputs": [
    {
     "name": "stdout",
     "output_type": "stream",
     "text": [
      "1 0 0 0 \n",
      "0 1 0 0 \n",
      "0 0 1 0 \n",
      "\n",
      "  1   0   0   0 \n",
      "  0 248   0   0 \n",
      "  0   0   1   0 \n",
      "\n",
      "  1   0   0   0 \n",
      "  0 -16   0   0 \n",
      "  0   0   1   0 \n"
     ]
    }
   ],
   "source": [
    "# opgave 4c\n",
    "def get_max_width(matrix):\n",
    "    max_width = 0\n",
    "    for row in matrix:\n",
    "        for elem in row:\n",
    "            if len(str(elem)) > max_width:\n",
    "                max_width = len(str(elem))\n",
    "    return max_width\n",
    "\n",
    "def print_matrix(matrix):\n",
    "    width = get_max_width(matrix)\n",
    "    for row in matrix:\n",
    "        for elem in row:\n",
    "            print(\"{:{}} \".format(elem, width), end=\"\")\n",
    "        print()\n",
    "\n",
    "print_matrix([[1, 0, 0, 0], [0, 1, 0, 0], [0, 0, 1, 0]])\n",
    "print()\n",
    "print_matrix([[1, 0, 0, 0], [0, 248, 0, 0], [0, 0, 1, 0]])\n",
    "print()\n",
    "print_matrix([[1, 0, 0, 0], [0, -16, 0, 0], [0, 0, 1, 0]])"
   ]
  },
  {
   "cell_type": "markdown",
   "metadata": {},
   "source": [
    "<span>d.</span> een matrix met opgegeven aantal rijen en kolommen teruggeeft. De elementen van de matrix dienen oplopend gevuld te zijn, te beginnen bij 0 in de linkerbovenhoek, zowel in de rijrichting als in de kolomrichting. Bekijk het onderstaande voorbeeld om te zien wat er verwacht wordt. <img src=\"images/stars_2.png\" alt=\"2 star\" style=\"display: inline; margin-top: -5px\" /> \n",
    "\n",
    "```python\n",
    ">>> rows, columns = 4, 3\n",
    ">>> A = create_matrix(rows, columns)\n",
    ">>> print_matrix(A)  # zie 4b. voor de print_matrix functie\n",
    "  0   1   2\n",
    "  1   2   3\n",
    "  2   3   4\n",
    "  3   4   5\n",
    "```"
   ]
  },
  {
   "cell_type": "code",
   "execution_count": 43,
   "metadata": {
    "collapsed": false
   },
   "outputs": [
    {
     "name": "stdout",
     "output_type": "stream",
     "text": [
      "0 1 2 \n",
      "1 2 3 \n",
      "2 3 4 \n",
      "3 4 5 \n"
     ]
    }
   ],
   "source": [
    "# opgave 4d\n",
    "def create_matrix(rows, columns):\n",
    "    result = []\n",
    "    for r in range(rows):\n",
    "        row = []\n",
    "        for c in range(columns):\n",
    "            row.append(r + c)\n",
    "        result.append(row)\n",
    "    return result\n",
    "\n",
    "rows, columns = 4, 3\n",
    "A = create_matrix(rows, columns)\n",
    "print_matrix(A)"
   ]
  },
  {
   "cell_type": "code",
   "execution_count": null,
   "metadata": {
    "collapsed": true
   },
   "outputs": [],
   "source": []
  }
 ],
 "metadata": {
  "kernelspec": {
   "display_name": "Python 3",
   "language": "python",
   "name": "python3"
  },
  "language_info": {
   "codemirror_mode": {
    "name": "ipython",
    "version": 3
   },
   "file_extension": ".py",
   "mimetype": "text/x-python",
   "name": "python",
   "nbconvert_exporter": "python",
   "pygments_lexer": "ipython3",
   "version": "3.5.1"
  }
 },
 "nbformat": 4,
 "nbformat_minor": 0
}
