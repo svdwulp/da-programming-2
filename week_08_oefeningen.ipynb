{
 "cells": [
  {
   "cell_type": "markdown",
   "metadata": {},
   "source": [
    "# Data Analysis - Programming\n",
    "## Week 8\n",
    "## Oefeningen\n",
    "\n",
    "Bij de onderstaande oefeningen hoort een [zipfile](http://www.flotwiskunde.nl/2008.zip) met 3 bestanden:\n",
    "- `variables.txt` - uitleg over de kolommen in de onderstaande bestanden\n",
    "- `2008.csv` - vluchtdata van vluchten van en naar de US in 2008 (7009729 regels)\n",
    "- `2008_excerpt.csv` - vluchtdata van vluchten van en naar de US in 2008 (eerste 1000 regels van 2008.csv)\n",
    "\n",
    "_Let op:_ probeer het bestand 2008.csv niet met een ander programma dan Python te openen, want dat bestand is groot en dat kunnen de meeste pakketten niet aan."
   ]
  },
  {
   "cell_type": "markdown",
   "metadata": {},
   "source": [
    "### Oefening 1 <img src=\"images/stars_1.png\" alt=\"1 star\" style=\"display: inline; margin-top: -5px\" />\n",
    "\n",
    "Bestudeer het bestand `variables.txt` om te zien welke variabelen (kolommen) in de data aanwezig zijn.  \n",
    "Bekijk het bestand `2008_excerpt.txt` en experimenteer met het inladen van de data in Python.\n",
    "\n",
    "Zodra je ervan overtuigd bent dat je de gegevens in 2008_excerpt.csv soepel in kunt laden, probeer dan de gegevens in 2008.csv in te laden."
   ]
  },
  {
   "cell_type": "markdown",
   "metadata": {},
   "source": [
    "### Oefening 2 <img src=\"images/stars_1.png\" alt=\"1 star\" style=\"display: inline; margin-top: -5px\" />\n",
    "\n",
    "We zijn geinteresseerd in aankomsttijden van de vluchten op John F. Kennedy Airport, New York.  \n",
    "Hoeveel vluchten kwamen aan op John F. Kennedy Airport in 2008 volgens het bestand 2008.csv?"
   ]
  },
  {
   "cell_type": "markdown",
   "metadata": {},
   "source": [
    "### Oefening 3 <img src=\"images/stars_2.png\" alt=\"2 star\" style=\"display: inline; margin-top: -5px\" />\n",
    "\n",
    "Bepaal de aankomsttijden voor alle vluchten die aankwamen op John F. Kennedy Airport in 2008.  \n",
    "Bepaal de tussentijden voor alle vluchten die aankwamen op John F. Kennedy Airport in 2008. Dat wil zeggen: bereken van ieder opeenvolgend paar aankomsten de tijd (in minuten) tussen de aankomsten."
   ]
  },
  {
   "cell_type": "markdown",
   "metadata": {},
   "source": [
    "### Oefening 4 <img src=\"images/stars_3.png\" alt=\"3 star\" style=\"display: inline; margin-top: -5px\" />\n",
    "\n",
    "In week 6 heb je geleerd hoe je kunt beoordelen of een verzameling meetpunten normaal verdeeld is.  \n",
    "Vergelijkbare methoden zou je kunnen gebruiken om in te schatten of een variabele exponentieel verdeeld is.  \n",
    "\n",
    "Schrijf Python code waarmee je in kunt schatten of de tussentijden van aankomsten op John F. Kennedy Airport exponentieel vedeeeld zijn."
   ]
  },
  {
   "cell_type": "code",
   "execution_count": null,
   "metadata": {
    "collapsed": true
   },
   "outputs": [],
   "source": []
  }
 ],
 "metadata": {
  "kernelspec": {
   "display_name": "Python 3",
   "language": "python",
   "name": "python3"
  },
  "language_info": {
   "codemirror_mode": {
    "name": "ipython",
    "version": 3
   },
   "file_extension": ".py",
   "mimetype": "text/x-python",
   "name": "python",
   "nbconvert_exporter": "python",
   "pygments_lexer": "ipython3",
   "version": "3.5.1"
  }
 },
 "nbformat": 4,
 "nbformat_minor": 0
}
