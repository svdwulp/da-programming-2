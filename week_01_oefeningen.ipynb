{
 "cells": [
  {
   "cell_type": "markdown",
   "metadata": {},
   "source": [
    "# Data Analysis - Programming\n",
    "## Week 1\n",
    "## Oefeningen\n",
    "\n",
    "### Moeilijkheidsgraad\n",
    "\n",
    "Omdat sommige van de onderstaande oefeningen wat lastiger zijn dan andere, is een indicatie van de moeilijkheidsgraad toegevoegd.\n",
    "\n",
    "De volgende niveau's worden daarbij onderscheiden:\n",
    "- <img src=\"images/stars_1.png\" alt=\"1 star\" style=\"display: inline\" /> oefening van behandelde onderwerpen\n",
    "- <img src=\"images/stars_2.png\" alt=\"2 stars\" style=\"display: inline\" /> verdieping van behandelde onderwerpen\n",
    "- <img src=\"images/stars_3.png\" alt=\"3 stars\" style=\"display: inline\" /> uitdaging, stof tot nadenken"
   ]
  },
  {
   "cell_type": "markdown",
   "metadata": {},
   "source": [
    "### Oefening 1\n",
    "\n",
    "Schrijf een programma om ...\n",
    "\n",
    "<span>a.</span> een temperatuur in graden Celcius om te zetten naar een temperatuur in Fahrenheit. Schrijf daarvoor een functie `print_celcius_to_fahrenheit(degrees_C)` die de opgegeven temperatuur in graden Celcius omzet naar Fahrenheit en het resultaat afdrukt naar het scherm. <img src=\"images/stars_1.png\" alt=\"1 star\" style=\"display: inline; margin-top: -5px\" />\n",
    "\n",
    "<span>b.</span> een temperatuur in graden Fahrenheit om te zetten naar een temperatuur in Celcius. Schrijf daarvoor een functie `convert_fahrenheit_to_ceclius(degrees_F)` die de opgegeven temperatuur in graden Fahrenheit omzet naar Celcius en het resultaat teruggeeft als resultaat van de functie-aanroep. <img src=\"images/stars_1.png\" alt=\"1 star\" style=\"display: inline; margin-top: -5px\" />"
   ]
  },
  {
   "cell_type": "markdown",
   "metadata": {},
   "source": [
    "### Oefening 2\n",
    "\n",
    "Schrijf een functie om ...\n",
    "\n",
    "de hoogte van een omhoog geworpen object op een tijdstip $t$ te bepalen.  \n",
    "De hoogte wordt beschreven door:  \n",
    "$y_t = v_0 t - \\frac{1}{2} g t^2$  \n",
    "waarbij $g$ de valversnelling is. Je mag $g = 9.81$ aannemen.  \n",
    "De hoogte van het geworpen object hangt dan alleen af van $v_0$ en $t$.\n",
    "\n",
    "Noem je functie `calculate_height(t, v0)` en laat de uitgerekende hoogte teruggeven als resultaat van de functie.  \n",
    "\n",
    "Schrijf een loopje waarmee je de functie kunt testen. Kies daarvoor een aanvangssnelheid $v_0$ en laat voor oplopende tijdstippen $t$ de hoogte van het object uitrekenen. <img src=\"images/stars_1.png\" alt=\"1 star\" style=\"display: inline; margin-top: -5px\" />"
   ]
  },
  {
   "cell_type": "markdown",
   "metadata": {},
   "source": [
    "### Oefening 3\n",
    "\n",
    "Schrijf een functie die ...\n",
    "\n",
    "<span>a.</span> een tabel met de eerste 10 machtsverheffingen $n^0$, $n^1$, $n^2$, ..., $n^9$ van een opgegeven getal afdrukt naar het scherm. <img src=\"images/stars_1.png\" alt=\"1 star\" style=\"display: inline; margin-top: -5px\" />\n",
    "\n",
    "<span>b.</span> de eerste 10 machtsverheffingen (zie a.) van een opgegeven getal teruggeeft als resultaat van de functie-aanroep. Omdat je meerdere getallen terug moet geven, zou je bijvoorbeeld een lijst kunnen gebruiken als resultaat van de functie-aanroep. <img src=\"images/stars_1.png\" alt=\"1 star\" style=\"display: inline; margin-top: -5px\" />"
   ]
  },
  {
   "cell_type": "markdown",
   "metadata": {},
   "source": [
    "### Oefening 4\n",
    "\n",
    "Schrijf een functie die ...\n",
    "\n",
    "<span>a.</span> een vierkante nulmatrix met opgegeven afmeting produceert als resultaat van de functie. Representeer de matrix als een geneste list. <img src=\"images/stars_1.png\" alt=\"1 star\" style=\"display: inline; margin-top: -5px\" />  \n",
    "Voorbeeld van een aanroep en bijbehorende output:\n",
    "\n",
    "```python\n",
    ">>> A = create_0_matrix(4)\n",
    ">>> print(A)\n",
    "[[0, 0, 0, 0], [0, 0, 0, 0], [0, 0, 0, 0], [0, 0, 0, 0]]\n",
    ">>> A[1, 1] = 4\n",
    ">>> print(A)\n",
    "[[0, 0, 0, 0], [0, 4, 0, 0], [0, 0, 0, 0], [0, 0, 0, 0]]\n",
    "```\n",
    "\n",
    "<span>b.</span> een opgegeven matrix, in geneste list-vorm, afdrukt naar het scherm. Begin met een vaste afmeting voor de elementen, bijvoorbeeld 3 karakters, om een nette, leesbare matrix af te drukken. Je mag er in de functie vanuit gaan dat de aangeleverde nested list, de matrix, netjes op orde is. <img src=\"images/stars_1.png\" alt=\"1 star\" style=\"display: inline; margin-top: -5px\" />  \n",
    "Voorbeeld van een aanroep en de bijbehorende output:\n",
    "\n",
    "```python\n",
    ">>> print_matrix([[1, 0, 0, 0], [0, 1, 0, 0], [0, 0, 1, 0]])\n",
    "  1   0   0   0\n",
    "  0   1   0   0\n",
    "  0   0   1   0\n",
    "```\n",
    "\n",
    "<span>c.</span> een matrix naar het scherm afdrukt, zoals in 4b. Bepaal de breedte van alle kolommen door de breedte van het breedste element van de matrix te bepalen met een zelf te schrijven functie `get_max_width(matrix)`. <img src=\"images/stars_2.png\" alt=\"2 star\" style=\"display: inline; margin-top: -5px\" />  \n",
    "Voorbeeld van een aanroep en de bijbehorende output:\n",
    "\n",
    "```python\n",
    ">>> print_matrix([[1, 0, 0, 0], [0, 1, 0, 0], [0, 0, 1, 0]])\n",
    "1 0 0 0\n",
    "0 1 0 0\n",
    "0 0 1 0\n",
    ">>> print_matrix([[1, 0, 0, 0], [0, 248, 0, 0], [0, 0, 1, 0]])\n",
    "  1   0   0   0\n",
    "  0 248   0   0\n",
    "  0   0   1   0\n",
    ">>> print_matrix([[1, 0, 0, 0], [0, -16, 0, 0], [0, 0, 1, 0]])\n",
    "  1   0   0   0\n",
    "  0 -16   0   0\n",
    "  0   0   1   0\n",
    "```\n",
    "\n",
    "<span>d.</span> een matrix met opgegeven aantal rijen en kolommen teruggeeft. De elementen van de matrix dienen oplopend gevuld te zijn, te beginnen bij 0 in de linkerbovenhoek, zowel in de rijrichting als in de kolomrichting. Bekijk het onderstaande voorbeeld om te zien wat er verwacht wordt. <img src=\"images/stars_2.png\" alt=\"2 star\" style=\"display: inline; margin-top: -5px\" /> \n",
    "\n",
    "```python\n",
    ">>> rows, columns = 4, 3\n",
    ">>> A = create_matrix(rows, columns)\n",
    ">>> print_matrix(A)  # zie 4b. voor de print_matrix functie\n",
    "  0   1   2\n",
    "  1   2   3\n",
    "  2   3   4\n",
    "  3   4   5\n",
    "```"
   ]
  },
  {
   "cell_type": "code",
   "execution_count": null,
   "metadata": {
    "collapsed": true
   },
   "outputs": [],
   "source": []
  }
 ],
 "metadata": {
  "kernelspec": {
   "display_name": "Python 3",
   "language": "python",
   "name": "python3"
  },
  "language_info": {
   "codemirror_mode": {
    "name": "ipython",
    "version": 3
   },
   "file_extension": ".py",
   "mimetype": "text/x-python",
   "name": "python",
   "nbconvert_exporter": "python",
   "pygments_lexer": "ipython3",
   "version": "3.5.1"
  }
 },
 "nbformat": 4,
 "nbformat_minor": 0
}
