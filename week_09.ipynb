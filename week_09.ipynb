{
 "cells": [
  {
   "cell_type": "markdown",
   "metadata": {
    "slideshow": {
     "slide_type": "slide"
    }
   },
   "source": [
    "# Data Analysis - Programming - 2\n",
    "## Week 9"
   ]
  },
  {
   "cell_type": "markdown",
   "metadata": {
    "slideshow": {
     "slide_type": "fragment"
    }
   },
   "source": [
    "## Onderwerpen week 9\n",
    "\n",
    "- error handling in Python"
   ]
  },
  {
   "cell_type": "code",
   "execution_count": 52,
   "metadata": {
    "collapsed": true,
    "slideshow": {
     "slide_type": "skip"
    }
   },
   "outputs": [],
   "source": [
    "from IPython.display import display, Latex"
   ]
  },
  {
   "cell_type": "markdown",
   "metadata": {
    "slideshow": {
     "slide_type": "slide"
    }
   },
   "source": [
    "## Error handling in Python (1)\n",
    "\n",
    "- je hebt er vast nooit bij stilgestaan,  \n",
    "  maar computerprogramma's gaan soms de fout in\n",
    "- er worden drie soorten fouten onderscheiden:\n",
    "  1. __syntax errors__: fouten die optreden tijdens compileren/parsen  \n",
    "  In Python krijg je deze fouten (of waarschuwingen)  \n",
    "  te zien als je Shift+Enter drukt op een cell.  \n",
    "  Voor studenten zijn dit vaak de vervelendste fouten.  \n",
    "  Python's meldingen voor compile time errors zijn  \n",
    "  meestal heel goed te lezen en dit zou snel op te lossen moeten zijn\n",
    "  2. __logische fouten__\n",
    "  Een programma met een logische fout lijkt prima te lopen,  \n",
    "  maar het doet niet wat het bedoeld was te doen.  \n",
    "  Dit is misschien wel de vervelendste soort:  \n",
    "  je ziet niet direct een probleem maar je uitkomsten  \n",
    "  kunnen er, zonder dat je het weet, ver naast zitten!\n",
    "  3. __runtime errors__: fouten die optreden terwijl het programma draait\n",
    "  "
   ]
  },
  {
   "cell_type": "markdown",
   "metadata": {
    "collapsed": true,
    "slideshow": {
     "slide_type": "subslide"
    }
   },
   "source": [
    "## Error handling in Python (2)\n",
    "\n",
    "Voorbeeld van een syntax error"
   ]
  },
  {
   "cell_type": "code",
   "execution_count": 53,
   "metadata": {
    "collapsed": false,
    "slideshow": {
     "slide_type": "fragment"
    }
   },
   "outputs": [
    {
     "ename": "SyntaxError",
     "evalue": "invalid syntax (<ipython-input-53-2be831138281>, line 2)",
     "output_type": "error",
     "traceback": [
      "\u001b[1;36m  File \u001b[1;32m\"<ipython-input-53-2be831138281>\"\u001b[1;36m, line \u001b[1;32m2\u001b[0m\n\u001b[1;33m    for j in range(12)\u001b[0m\n\u001b[1;37m                      ^\u001b[0m\n\u001b[1;31mSyntaxError\u001b[0m\u001b[1;31m:\u001b[0m invalid syntax\n"
     ]
    }
   ],
   "source": [
    "i = 15\n",
    "for j in range(12)\n",
    "    print(i * j)"
   ]
  },
  {
   "cell_type": "markdown",
   "metadata": {
    "slideshow": {
     "slide_type": "fragment"
    }
   },
   "source": [
    "- Python vermeldt de fout\n",
    "- een pijl geeft aan waar de fout optrad\n",
    "- het bestand en de regel worden genoemd"
   ]
  },
  {
   "cell_type": "markdown",
   "metadata": {
    "slideshow": {
     "slide_type": "subslide"
    }
   },
   "source": [
    "## Error handling in Python (3)\n",
    "Syntax errors zijn soms moeilijk te spotten:\n",
    "\n",
    "Welch-Sattertwaithe vergelijking:\n",
    "$$\n",
    "\\nu = \\frac{\n",
    "    \\big( \\frac{s_1^2}{n_1} + \\frac{s_2^2}{n_2} \\big)^2\n",
    "}{\n",
    "    \\frac{\\big(\\frac{s_1^2}{n_1}\\big)^2}{n_1 - 1} + \n",
    "    \\frac{\\big(\\frac{s_2^2}{n_2}\\big)^2}{n_2 - 1}\n",
    "}\n",
    "$$"
   ]
  },
  {
   "cell_type": "code",
   "execution_count": 54,
   "metadata": {
    "collapsed": false,
    "slideshow": {
     "slide_type": "fragment"
    }
   },
   "outputs": [
    {
     "ename": "SyntaxError",
     "evalue": "invalid syntax (<ipython-input-54-89492c42d6c5>, line 9)",
     "output_type": "error",
     "traceback": [
      "\u001b[1;36m  File \u001b[1;32m\"<ipython-input-54-89492c42d6c5>\"\u001b[1;36m, line \u001b[1;32m9\u001b[0m\n\u001b[1;33m    display(Latex(r\"$\\nu \\approx {}$\".format(int(ddof))))\u001b[0m\n\u001b[1;37m          ^\u001b[0m\n\u001b[1;31mSyntaxError\u001b[0m\u001b[1;31m:\u001b[0m invalid syntax\n"
     ]
    }
   ],
   "source": [
    "s_1, s_2, n_1, n_2 = 0.5, 0.5, 30, 30\n",
    "ddof = (\n",
    "    ((s_1**2 / n_1 + s_2**2 / n_2)**2 / \n",
    "    (\n",
    "        (s_1**2 / n_1)**2 / (n_1 - 1) + \n",
    "        (s_2**2 / n_2)**2 / (n_2 - 1)\n",
    "    )\n",
    ")\n",
    "display(Latex(r\"$\\nu \\approx {}$\".format(int(ddof))))"
   ]
  },
  {
   "cell_type": "markdown",
   "metadata": {
    "slideshow": {
     "slide_type": "subslide"
    }
   },
   "source": [
    "## Error handling in Python (4)\n",
    "\n",
    "Voor logische fouten krijg je helaas geen foutmelding!\n",
    "\n",
    "Chi-kwadraat verdeling:\n",
    "$$\n",
    "\\chi^2 = \\frac{(n - 1) s^2}{\\sigma^2}\n",
    "$$"
   ]
  },
  {
   "cell_type": "code",
   "execution_count": 55,
   "metadata": {
    "collapsed": false,
    "slideshow": {
     "slide_type": "fragment"
    }
   },
   "outputs": [
    {
     "data": {
      "text/latex": [
       "$\\chi^2 \\approx 9.6667$"
      ],
      "text/plain": [
       "<IPython.core.display.Latex object>"
      ]
     },
     "metadata": {},
     "output_type": "display_data"
    }
   ],
   "source": [
    "n, s, sigma = 30, 3, 1\n",
    "chi2 = ((n - 1) * (s^2)) / (sigma^2)\n",
    "display(Latex(r\"$\\chi^2 \\approx {:.4f}$\".format(chi2)))"
   ]
  },
  {
   "cell_type": "code",
   "execution_count": 56,
   "metadata": {
    "collapsed": false,
    "slideshow": {
     "slide_type": "skip"
    }
   },
   "outputs": [
    {
     "data": {
      "text/latex": [
       "$\\chi^2 \\approx 261.0000$"
      ],
      "text/plain": [
       "<IPython.core.display.Latex object>"
      ]
     },
     "metadata": {},
     "output_type": "display_data"
    }
   ],
   "source": [
    "# should have been:\n",
    "n, s, sigma = 30, 3, 1\n",
    "chi2 = ((n - 1) * (s**2)) / (sigma**2)\n",
    "display(Latex(r\"$\\chi^2 \\approx {:.4f}$\".format(chi2)))"
   ]
  },
  {
   "cell_type": "markdown",
   "metadata": {
    "slideshow": {
     "slide_type": "subslide"
    }
   },
   "source": [
    "## Error handling in Python (5)\n",
    "\n",
    "Runtime errors kun je deels voorspellen,  \n",
    "en op die manier voorkomen:"
   ]
  },
  {
   "cell_type": "code",
   "execution_count": 57,
   "metadata": {
    "collapsed": false,
    "slideshow": {
     "slide_type": "fragment"
    }
   },
   "outputs": [
    {
     "name": "stdout",
     "output_type": "stream",
     "text": [
      "Geef het gewenste aantal herhalingen:\n"
     ]
    },
    {
     "ename": "ValueError",
     "evalue": "invalid literal for int() with base 10: ''",
     "output_type": "error",
     "traceback": [
      "\u001b[1;31m---------------------------------------------------------------------------\u001b[0m",
      "\u001b[1;31mValueError\u001b[0m                                Traceback (most recent call last)",
      "\u001b[1;32m<ipython-input-57-0d7df006a32f>\u001b[0m in \u001b[0;36m<module>\u001b[1;34m()\u001b[0m\n\u001b[1;32m----> 1\u001b[1;33m \u001b[0mrepetitions\u001b[0m \u001b[1;33m=\u001b[0m \u001b[0mint\u001b[0m\u001b[1;33m(\u001b[0m\u001b[0minput\u001b[0m\u001b[1;33m(\u001b[0m\u001b[1;34m\"Geef het gewenste aantal herhalingen:\"\u001b[0m\u001b[1;33m)\u001b[0m\u001b[1;33m)\u001b[0m\u001b[1;33m\u001b[0m\u001b[0m\n\u001b[0m",
      "\u001b[1;31mValueError\u001b[0m: invalid literal for int() with base 10: ''"
     ]
    }
   ],
   "source": [
    "repetitions = int(input(\"Geef het gewenste aantal herhalingen:\"))"
   ]
  },
  {
   "cell_type": "markdown",
   "metadata": {
    "slideshow": {
     "slide_type": "subslide"
    }
   },
   "source": [
    "## Error handling in Python (6)\n",
    "\n",
    "In Python kun je runtime errors afvangen met een try-except-handler:\n",
    "\n",
    "```python\n",
    "while True:\n",
    "    try:\n",
    "        repetitions = int(input(\"Geef het gewenste aantal herhalingen:\"))\n",
    "        break\n",
    "    except ValueError:\n",
    "        print(\"Dat is geen geldig aantal herhalingen, probeer opnieuw.\")\n",
    "```"
   ]
  },
  {
   "cell_type": "markdown",
   "metadata": {
    "slideshow": {
     "slide_type": "subslide"
    }
   },
   "source": [
    "## Error handling in Python (7)\n",
    "\n",
    "Een try-except-block mag meerdere fouttypen, of zelfs alle fouttypen afvangen:\n",
    "\n",
    "```python\n",
    "try:\n",
    "    f = open('myfile.txt')\n",
    "    s = f.readline()\n",
    "    i = int(s.strip())\n",
    "except OSError as err:\n",
    "    print(\"Fout bij openen bestand: {}\".format(err))\n",
    "except ValueError:\n",
    "    print(\"Fout bij converteren tekst naar integer.\")\n",
    "except:\n",
    "    print(\"Onverwachte fout!\")\n",
    "    raise\n",
    "```"
   ]
  },
  {
   "cell_type": "markdown",
   "metadata": {
    "slideshow": {
     "slide_type": "subslide"
    }
   },
   "source": [
    "## Error handling in Python (8)\n",
    "\n",
    "Idiomatisch voor Python is 'EAFP': easier to ask for forgiveness than permission.  \n",
    "\n",
    "Vaak is het leesbaarder om fouten af te handelen dan op alle mogelijke problemen te controleren.\n",
    "\n",
    "Vergelijk de onderstaande voorbeelden (code in een functie):\n",
    "\n",
    "```python\n",
    "# LBYL style\n",
    "s = input(\"Geef een getal:\")\n",
    "if not isinstance(s, str) or not s.isdigit():\n",
    "    return None\n",
    "else:\n",
    "    return int(s)\n",
    "```\n",
    "\n",
    "en:\n",
    "\n",
    "```python\n",
    "# EAFP style\n",
    "s = input(\"Geef een getal:\")\n",
    "try:\n",
    "    return int(s)\n",
    "except (TypeError, ValueError):\n",
    "    return None\n",
    "```\n",
    "\n",
    "Merk op dat het onderstaande voorbeeld als bijkomend voordeel heeft dat ook negatieve integers gelezen kunnen worden."
   ]
  },
  {
   "cell_type": "markdown",
   "metadata": {},
   "source": [
    "## Error handling in Python (9)\n",
    "\n",
    "Soms is het duidelijk beter om fouten af te vangen dan foutcondities te controleren.\n",
    "\n",
    "Kun je zien wat er mis is met het eerste voorbeeld?\n",
    "\n",
    "\n",
    "```python\n",
    "# LBYL style\n",
    "import os\n",
    "\n",
    "def read_first_line(filename):\n",
    "    if os.path.isfile(filename) and os.access(filename):\n",
    "        return open(filename, \"r\").readline()\n",
    "    print(\"File {} could not be opened for reading!\".format(filename))\n",
    "    return None\n",
    "```\n",
    "\n",
    "en:\n",
    "\n",
    "```python\n",
    "# LBYL style\n",
    "import os\n",
    "\n",
    "def read_first_line(filename):\n",
    "    try:\n",
    "        return open(filename, \"r\").readline()\n",
    "    except:\n",
    "        print(\"File {} could not be opened for reading!\".format(filename))\n",
    "        return None\n",
    "```"
   ]
  },
  {
   "cell_type": "markdown",
   "metadata": {
    "slideshow": {
     "slide_type": "subslide"
    }
   },
   "source": [
    "## Error handling in Python (10)\n",
    "\n",
    "Tips voor foutafhandeling:\n",
    "- probeer veel voorkomende fouten af te vangen  \n",
    "en vooral ook netjes af te handelen\n",
    "- maar probeer niet alles op te vangen:  \n",
    "laat minder vaak voorkomende fouten aan Python over.\n",
    "het is beter dat je programma crashed met een \n",
    "(door Python gedefinieerde) redelijke foutmelding,  \n",
    "dan dat je doorploetert met mogelijk foutieve resultaten"
   ]
  },
  {
   "cell_type": "code",
   "execution_count": null,
   "metadata": {
    "collapsed": true
   },
   "outputs": [],
   "source": []
  }
 ],
 "metadata": {
  "celltoolbar": "Slideshow",
  "kernelspec": {
   "display_name": "Python 3",
   "language": "python",
   "name": "python3"
  },
  "language_info": {
   "codemirror_mode": {
    "name": "ipython",
    "version": 3
   },
   "file_extension": ".py",
   "mimetype": "text/x-python",
   "name": "python",
   "nbconvert_exporter": "python",
   "pygments_lexer": "ipython3",
   "version": "3.5.1"
  }
 },
 "nbformat": 4,
 "nbformat_minor": 0
}
