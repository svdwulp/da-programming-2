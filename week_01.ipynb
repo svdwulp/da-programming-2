{
 "cells": [
  {
   "cell_type": "markdown",
   "metadata": {
    "slideshow": {
     "slide_type": "slide"
    }
   },
   "source": [
    "# Data Analysis - Programming - 2\n",
    "## Week 1"
   ]
  },
  {
   "cell_type": "markdown",
   "metadata": {
    "slideshow": {
     "slide_type": "fragment"
    }
   },
   "source": [
    "## Onderwerpen week 1\n",
    "\n",
    "- opgaven toets week 10\n",
    "- samenvatting DA - Programming - 1\n",
    "- functies"
   ]
  },
  {
   "cell_type": "markdown",
   "metadata": {
    "slideshow": {
     "slide_type": "slide"
    }
   },
   "source": [
    "## Opgaven toets week 10\n",
    "\n",
    "### Opgave 1\n",
    "\n",
    "In het Jupyter Notebook `opgave_1.ipynb` vind je een lijst met de gegevens die in deze opgave gebruikt zijn.\n",
    "Schrijf Python code die de gegevens in de lijst afdrukt naar het scherm in een nette tabel. Voeg onderaan de tabel een regel toe met kolomtotalen.\n",
    "Onderstaand zie je een voorbeeld van de gewenste output. [Python]\n",
    "\n",
    "```\n",
    "                 mannen (mln) vrouwen (mln)\n",
    "alleenstaand             40.2          34.0\n",
    "getrouwd                 62.2          62.0\n",
    "weduwe/weduwnaar          3.0          11.4\n",
    "gescheiden               12.4          17.0\n",
    "totaal                  117.8         124.4 \n",
    "```"
   ]
  },
  {
   "cell_type": "code",
   "execution_count": 5,
   "metadata": {
    "collapsed": false,
    "slideshow": {
     "slide_type": "subslide"
    }
   },
   "outputs": [
    {
     "name": "stdout",
     "output_type": "stream",
     "text": [
      "                 mannen (mln) vrouwen (mln)\n",
      "alleenstaand             40.2          34.0\n",
      "getrouwd                 62.2          62.0\n",
      "weduwe/weduwnaar          3.0          11.4\n",
      "gescheiden               12.4          17.0\n"
     ]
    }
   ],
   "source": [
    "# Opgave 1\n",
    "data = [\n",
    "    [\"alleenstaand\", 40.2, 34.0],\n",
    "    [\"getrouwd\", 62.2, 62.0],\n",
    "    [\"weduwe/weduwnaar\", 3.0, 11.4],\n",
    "    [\"gescheiden\", 12.4, 17.0],\n",
    "]\n",
    "\n",
    "print(\"{:16} {:>12} {:>13}\".format(\n",
    "    \"\", \"mannen (mln)\", \"vrouwen (mln)\"\n",
    "))\n",
    "for line in data:\n",
    "    print(\"{:16} {:>12.1f} {:>13.1f}\".format(\n",
    "        line[0], line[1], line[2]\n",
    "    ))"
   ]
  },
  {
   "cell_type": "markdown",
   "metadata": {
    "slideshow": {
     "slide_type": "subslide"
    }
   },
   "source": [
    "### Opgave 2\n",
    "\n",
    "In het Jupyter Notebook `opgave_1.ipynb` vind je een lijst met de gegevens die in deze opgave gebruikt zijn.\n",
    "Het aantal categorieën in de verticale richting zal niet altijd hetzelfde zijn omdat de enquête nog wel eens verandert. Je kunt je bijvoorbeeld voorstellen dat de categorieën ‘weduwen’ en ‘gescheiden’ worden opgenomen bij alleenstaand, of dat een verdere opsplitsing wordt gemaakt.\n",
    "Schrijf Python code die het rijtotaal van iedere categorie, dus de som van de aantallen voor mannen en vrouwen, toevoegt aan de lijst data. Bij het programmeren van deze opgave dien je ervan uit te gaan dat je niet weet hoeveel categorieën (rijen) er precies in de lijst zitten omdat dit aantal kan veranderen. [Python]"
   ]
  },
  {
   "cell_type": "code",
   "execution_count": 8,
   "metadata": {
    "collapsed": false,
    "slideshow": {
     "slide_type": "subslide"
    }
   },
   "outputs": [
    {
     "name": "stdout",
     "output_type": "stream",
     "text": [
      "[['alleenstaand', 40.2, 34.0, 74.2], ['getrouwd', 62.2, 62.0, 124.2], ['weduwe/weduwnaar', 3.0, 11.4, 14.4], ['gescheiden', 12.4, 17.0, 29.4]]\n"
     ]
    }
   ],
   "source": [
    "# Opgave 1\n",
    "data = [\n",
    "    [\"alleenstaand\", 40.2, 34.0],\n",
    "    [\"getrouwd\", 62.2, 62.0],\n",
    "    [\"weduwe/weduwnaar\", 3.0, 11.4],\n",
    "    [\"gescheiden\", 12.4, 17.0],\n",
    "]\n",
    "\n",
    "for line in data:\n",
    "    line.append(line[1] + line[2])\n",
    "\n",
    "print(data)  # ter controle"
   ]
  },
  {
   "cell_type": "markdown",
   "metadata": {
    "slideshow": {
     "slide_type": "subslide"
    }
   },
   "source": [
    "### Opgave 3 - Dobbelspel\n",
    "\n",
    "Bij een bordspel moet je iedere beurt gooien met een zeszijdige dobbelsteen. Na het gooien zet je jouw pion zoveel plaatsen vooruit als je ogen gegooid hebt. Als je een even aantal ogen gooide, mag je nog een keer. Je blijft net zolang aan de beurt tot je een oneven aantal ogen gooit.\n",
    "Noem het aantal plaatsen dat je pion vooruitgegaan in een beurt X.\n",
    "\n",
    "Voorbeelden van mogelijke uitkomsten van één beurt:\n",
    "-\tJe gooit achtereenvolgens 4, 4, 2 en 5: je pion gaat 15 plaatsen vooruit, X = 15\n",
    "-\tJe gooit een 3: je pion gaat 3 plaatsen vooruit, X = 3\n",
    "\n",
    "Schrijf een Monte Carlo simulatie in Python in het bestand `opgave_3.ipynb ` waarmee je de verwachtingswaarde van X kunt schatten. Kies zelf een gepast aantal herhalingen. [Python]"
   ]
  },
  {
   "cell_type": "code",
   "execution_count": 20,
   "metadata": {
    "collapsed": false,
    "slideshow": {
     "slide_type": "subslide"
    }
   },
   "outputs": [
    {
     "name": "stdout",
     "output_type": "stream",
     "text": [
      "Verwachtingswaarde X, aantal plaatsen vooruit: 7.014\n"
     ]
    }
   ],
   "source": [
    "from random import randint\n",
    "\n",
    "n = 10000\n",
    "moved = 0\n",
    "for i in range(n):\n",
    "    die = randint(1, 6)\n",
    "    moved += die\n",
    "    while die % 2 == 0:\n",
    "        die = randint(1, 6)\n",
    "        moved += die\n",
    "print(\"Verwachtingswaarde X, aantal plaatsen vooruit: {:.3f}\".format(\n",
    "    moved / n\n",
    "))"
   ]
  },
  {
   "cell_type": "markdown",
   "metadata": {
    "slideshow": {
     "slide_type": "slide"
    }
   },
   "source": [
    "## Samenvatting DA - Programming - 1\n",
    "\n",
    "Op [github](https://github.com/svdwulp/da-programming-1/blob/master/Samenvatting%20vaardigheden%20Programming%201.ipynb)\n",
    "vind je een samenvatting van de in de afgelopen periode behandelde stof.\n",
    "\n",
    "Gebruik de slides maar vooral ook de opdrachten van de afgelopen periode \n",
    "om je vaardigheden aan te scherpen. Gebruik ook externe websites als \n",
    "je behoefte hebt aan extra oefening! "
   ]
  },
  {
   "cell_type": "markdown",
   "metadata": {
    "slideshow": {
     "slide_type": "slide"
    }
   },
   "source": [
    "## Functies (1)\n",
    "\n",
    "- een functie is een blok instructies \n",
    "die je vanaf een willekeurige plek in je programma aan kunt roepen\n",
    "- het gebruik van functies:\n",
    "  - helpt je programma op te delen in overzichtelijke, kleinere stukken\n",
    "  - voorkomt duplicatie van code\n",
    "  - helpt code te generaliseren met behulp van argumenten voor input\n",
    "  en teruggeven van output"
   ]
  },
  {
   "cell_type": "markdown",
   "metadata": {
    "slideshow": {
     "slide_type": "subslide"
    }
   },
   "source": [
    "## Functies (2)\n",
    "\n",
    "- een definitie van een functie zonder argumenten ziet er in Python zo uit:\n",
    "\n",
    "```python\n",
    "def print_powers_of_two():\n",
    "    for i in range(9):\n",
    "        print(\"{:3} {:3}\".format(i, 2**i))\n",
    "```\n",
    "- roep de functie aan in je programma met  \n",
    "\n",
    "```python\n",
    "print_powers_of_two()\n",
    "```\n",
    "- op de plaats van de functie-aanroep in je programma  \n",
    "zal Python alle instructies in de functie definitie uitvoeren  \n",
    "alsof ze op de plek van de aanroep stonden\n"
   ]
  },
  {
   "cell_type": "markdown",
   "metadata": {
    "slideshow": {
     "slide_type": "subslide"
    }
   },
   "source": [
    "## Functies (3)\n",
    "\n",
    "- afspraken met betrekking tot functiedefinities in Python:\n",
    "  - definieer functies zoveel mogelijk bovenaan in je programma:  \n",
    "  Python kan de functie-aanroep alleen herkennen als de functie al \n",
    "  gedefinieerd is\n",
    "  - geef functies een naam in kleine letters, woorden gescheiden \n",
    "  door underscores\n",
    "  - begin iedere functienaam met een werkwoord,  \n",
    "  dat maakt duidelijk dat je functie iets doet\n",
    "  - probeer je functienamen, net als je variabelen in het Engels te benoemen,  \n",
    "  het mixen van Engels en Nederlands werkt verwarrend en  \n",
    "  het leeuwendeel van je programma is toch al Engels"
   ]
  },
  {
   "cell_type": "markdown",
   "metadata": {
    "slideshow": {
     "slide_type": "slide"
    }
   },
   "source": [
    "## Functie-argumenten (1)\n",
    "\n",
    "- het gebruik van functies komt pas echt tot zijn recht  \n",
    "wanneer je functie argumenten gebruikt\n",
    "- je kent al talloze voorbeelden van functies met argumenten:  \n",
    "`print()`, `len()`, `list.append()`, ...\n",
    "\n",
    "```python\n",
    "def print_power(base, power):\n",
    "    print(base**power)\n",
    "```\n",
    "\n",
    "- roep de functie aan met\n",
    "\n",
    "```python\n",
    "print_power(12, 18)\n",
    "```\n",
    "\n",
    "- omdat de output van de functie *alleen* wordt bepaald door de argumenten,  \n",
    "werkt de functie voor alle mogelijke argumenten:  \n",
    "de functie is generiek want je kunt alle mogelijke machtsverheffingen af laten drukken"
   ]
  },
  {
   "cell_type": "markdown",
   "metadata": {
    "slideshow": {
     "slide_type": "subslide"
    }
   },
   "source": [
    "## Functie-argumenten (2)\n",
    "\n",
    "### Opdracht 1\n",
    "Schrijf een functie die een vermenigvuldigingstabel ('tafel') afdrukt voor een opgegeven getal. Een voorbeeld van een mogelijke functie-aanroep en de verwachte output:\n",
    "\n",
    "```python\n",
    ">>> print_mult_table(18)\n",
    "```\n",
    "\n",
    "```\n",
    " 1  18\n",
    " 2  36\n",
    " 3  54\n",
    " 4  72\n",
    " 5  90\n",
    " 6 108\n",
    " 7 126\n",
    " 8 144\n",
    " 9 162\n",
    "10 180\n",
    "```"
   ]
  },
  {
   "cell_type": "markdown",
   "metadata": {
    "slideshow": {
     "slide_type": "subslide"
    }
   },
   "source": [
    "## Functie-argumenten (3)\n",
    "\n",
    "- argumenten van functies en  \n",
    "variabelennamen die je gebruikt in functies  \n",
    "zijn alleen geldig binnen de functiedefinitie\n",
    "- in het onderstaande voorbeeld verwijst de variabelenaam `n`  \n",
    "binnen de functie naar een andere waarde dan buiten de functie!\n",
    "\n",
    "```python\n",
    "def print_incremented_value(n):\n",
    "    n = n + 1\n",
    "    print(n)\n",
    "\n",
    "n = 123\n",
    "print_incremented_value(n)\n",
    "print(n)\n",
    "```"
   ]
  },
  {
   "cell_type": "markdown",
   "metadata": {
    "slideshow": {
     "slide_type": "fragment"
    }
   },
   "source": [
    "- *maar let op met het gebruik van bijvoorbeeld lists als functie-argument,  \n",
    "want de inhoud van een list kan wel worden aangepast in een functie in Python*"
   ]
  },
  {
   "cell_type": "markdown",
   "metadata": {
    "slideshow": {
     "slide_type": "slide"
    }
   },
   "source": [
    "## Functiewaarde (1)\n",
    "\n",
    "- een functie mag een waarde teruggeven in Python:\n",
    "\n",
    "```python\n",
    "def sum_list(lst):\n",
    "    total = 0\n",
    "    for elem in lst:\n",
    "        total += elem\n",
    "    return total\n",
    "```\n",
    "\n",
    "- de functie-aanroep levert nu een waarde op die je kunt gebruiken in je programma:\n",
    "\n",
    "```python\n",
    ">>> items = [1, 2, 3, 4, 5, 6, 7, 8, 9, 10]\n",
    ">>> print(sum_list(items))\n",
    "55\n",
    "```"
   ]
  },
  {
   "cell_type": "markdown",
   "metadata": {
    "slideshow": {
     "slide_type": "fragment"
    }
   },
   "source": [
    "- in Python mag een functie maar één waarde teruggeven,  \n",
    "als je meerdere waarden terug wilt geven, kun je bijvoorbeeld een tuple gebruiken"
   ]
  },
  {
   "cell_type": "markdown",
   "metadata": {
    "slideshow": {
     "slide_type": "subslide"
    }
   },
   "source": [
    "## Functiewaarde (2)\n",
    "\n",
    "### Oefening 2\n",
    "\n",
    "Schrijf een functie genaamd `calc_area` die de oppervlakte van een cirkel met een opgegeven radius uitrekent en teruggeeft. De functie heeft één argument genaamd `radius`.\n",
    "\n",
    "Voorbeeld van mogelijke aanroep:\n",
    "```python\n",
    "print(\"radius area\")\n",
    "for r in range(1, 11):\n",
    "    print(\"{:5} {:4.2f}\".format(r, calc_radius(r))\n",
    "```"
   ]
  },
  {
   "cell_type": "code",
   "execution_count": 30,
   "metadata": {
    "collapsed": false,
    "slideshow": {
     "slide_type": "subslide"
    }
   },
   "outputs": [
    {
     "name": "stdout",
     "output_type": "stream",
     "text": [
      "radius   area\n",
      "     1   3.14\n",
      "     2  12.57\n",
      "     3  28.27\n",
      "     4  50.27\n",
      "     5  78.54\n",
      "     6 113.10\n",
      "     7 153.94\n",
      "     8 201.06\n",
      "     9 254.47\n",
      "    10 314.16\n"
     ]
    }
   ],
   "source": [
    "from math import pi\n",
    "\n",
    "\n",
    "def calc_radius(radius):\n",
    "    return pi * radius**2\n",
    "\n",
    "\n",
    "print(\"radius   area\")\n",
    "for r in range(1, 11):\n",
    "    print(\"{:6} {:6.2f}\".format(r, calc_radius(r)))"
   ]
  },
  {
   "cell_type": "code",
   "execution_count": null,
   "metadata": {
    "collapsed": true
   },
   "outputs": [],
   "source": []
  }
 ],
 "metadata": {
  "celltoolbar": "Slideshow",
  "kernelspec": {
   "display_name": "Python 3",
   "language": "python",
   "name": "python3"
  },
  "language_info": {
   "codemirror_mode": {
    "name": "ipython",
    "version": 3
   },
   "file_extension": ".py",
   "mimetype": "text/x-python",
   "name": "python",
   "nbconvert_exporter": "python",
   "pygments_lexer": "ipython3",
   "version": "3.5.1"
  }
 },
 "nbformat": 4,
 "nbformat_minor": 0
}
