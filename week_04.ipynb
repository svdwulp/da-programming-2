{
 "cells": [
  {
   "cell_type": "markdown",
   "metadata": {
    "slideshow": {
     "slide_type": "slide"
    }
   },
   "source": [
    "# Data Analysis - Programming - 2\n",
    "## Week 4"
   ]
  },
  {
   "cell_type": "markdown",
   "metadata": {
    "slideshow": {
     "slide_type": "fragment"
    }
   },
   "source": [
    "## Onderwerpen week 4\n",
    "\n",
    "- local file reading and writing (plaintext)\n",
    "- csv reading\n",
    "- downloaden van internet"
   ]
  },
  {
   "cell_type": "markdown",
   "metadata": {
    "slideshow": {
     "slide_type": "slide"
    }
   },
   "source": [
    "## File reading and writing (1)\n",
    "\n",
    "- tot nu toe heb je programma's geschreven waarbij de  \n",
    "input altijd onderdeel was van het programma of live aan  \n",
    "de gebruiker werd gevraagd\n",
    "- het is gebruikelijker om analyses te doen op bestanden  \n",
    "die zijn aangeleverd door de opdrachtgever of die je  \n",
    "zelf hebt samengesteld"
   ]
  },
  {
   "cell_type": "markdown",
   "metadata": {
    "slideshow": {
     "slide_type": "subslide"
    }
   },
   "source": [
    "## File reading and writing (2)\n",
    "\n",
    "- een bestand is een geordende verzameling gegevens\n",
    "- de inhoud of indeling van een bestand bepaalt of en  \n",
    "hoe je het in zou kunnen lezen in je programma\n",
    "- gebruiker bijvoorbeeld de bestandsextensie of  \n",
    "een eenvoudige teksteditor om de inhoud van een bestand  \n",
    "te bekijken\n",
    "- platte tekstbestanden kun je in Python eenvoudig inlezen:\n",
    "\n",
    "```python\n",
    "filename = \"alice.txt\"\n",
    "with open(filename, \"r\") as f:\n",
    "    text_alice = f.read()\n",
    "```"
   ]
  },
  {
   "cell_type": "markdown",
   "metadata": {
    "slideshow": {
     "slide_type": "subslide"
    }
   },
   "source": [
    "## File reading and writing (3)\n",
    "\n",
    "```python\n",
    "filename = \"alice.txt\"\n",
    "with open(filename, \"r\") as f:\n",
    "    text_alice = f.read()\n",
    "```\n",
    "\n",
    "- de `open`-functie geeft een 'handle' naar een bestand terug  \n",
    "die gebruikt kan worden om de inhoud van het bestand te benaderen\n",
    "- `open` heeft in het voorbeeld twee argumenten:  \n",
    "  - de bestandsnaam\n",
    "  - de modus waarin het bestand geopend wordt:\n",
    "    - \"r\" voor lezen\n",
    "    - \"w\" voor schrijven\n",
    "    - \"a\" voor toevoegen (appending)\n",
    "- de `with`-constructie in het voorbeeld zorgt er alleen voor dat  \n",
    "je zelf geen huishouding met betrekking tot de filehandle hoeft  \n",
    "te doen"
   ]
  },
  {
   "cell_type": "markdown",
   "metadata": {
    "slideshow": {
     "slide_type": "subslide"
    }
   },
   "source": [
    "## File reading and writing (4)\n",
    "\n",
    "- met behulp van een filehandle, zoals de `open`-functie teruggeeft,  \n",
    "kun je (een deel van) een bestand lezen of schrijven:\n",
    "  - `f.read()` leest het hele bestand als string\n",
    "  - `f.readline()` leest één regel van het bestand als string\n",
    "  - `f.readlines()` leest alle regels van het bestand als  \n",
    "  een lijst van strings\n",
    "  - `f.write(s)` schrijft de string `s` naar het bestand\n",
    "- voor platte tekstbestanden bepaalt Python zelf welk regeleinde  \n",
    "gepast is (voor `readline` en `readlines`)"
   ]
  },
  {
   "cell_type": "markdown",
   "metadata": {
    "slideshow": {
     "slide_type": "slide"
    }
   },
   "source": [
    "## Opgave 1\n",
    "\n",
    "- download het bestand [alice.txt](data/alice.txt) naar je mapje waar notebooks staan\n",
    "- lees de (hele) tekst in en bekijk de eerste paar regels\n",
    "- zou je de letterfrequentie kunnen bepalen (zie huiswerk week 3) op de hele tekst?\n",
    "- kun je een mooie tabel met de letterfrequenties naar een tekstbestand schrijven?"
   ]
  },
  {
   "cell_type": "markdown",
   "metadata": {
    "slideshow": {
     "slide_type": "slide"
    }
   },
   "source": [
    "## CSV reading (1)\n",
    "\n",
    "- veel bestanden met (meet)gegevens zijn ingedeeld met een  \n",
    "min of meer specifieke indeling: comma-separated-value bestanden\n",
    "- de bestandsindeling is niet echt gestandaardiseerd, maar het  \n",
    "algemene idee is:\n",
    "  - iedere regel bevat een rij gegevens\n",
    "  - iedere rij is opgedeeld in hetzelfde aantal kolommen\n",
    "  - de kolommen zijn gescheiden door een gekozen leesteken\n",
    "- veel voorkomende tekens voor kolomscheiding zijn:  \n",
    "komma, punt-komma en tab"
   ]
  },
  {
   "cell_type": "markdown",
   "metadata": {
    "slideshow": {
     "slide_type": "fragment"
    }
   },
   "source": [
    "- Python heeft een speciale module voor het inlezen van csv-bestanden,  \n",
    "    maar die hoef je niet te gebruiken: csv is platte tekst met een indeling,  \n",
    "    dus je kunt de gewone filereading functies gebruiken\n",
    "- _Opmerking_: soms hebben csv bestanden een headerline,  \n",
    "    waarin de (namen van de) kolomkoppen zijn gegeven als ware het een dataregel,  \n",
    "    maar soms ook niet,  \n",
    "    houdt daar rekening mee bij het inlezen"
   ]
  },
  {
   "cell_type": "markdown",
   "metadata": {
    "slideshow": {
     "slide_type": "subslide"
    }
   },
   "source": [
    "## CSV reading (2)\n",
    "\n",
    "- belangrijk is te weten hoe je de kolommen in de regel wilt scheiden,  \n",
    "  gegeven een scheidingsteken,  \n",
    "  ken je een Python functie die dat doet, gegeven een string?"
   ]
  },
  {
   "cell_type": "markdown",
   "metadata": {
    "slideshow": {
     "slide_type": "slide"
    }
   },
   "source": [
    "## Opgave 2\n",
    "\n",
    "- lees de data in het bestand [data.csv](data/data.csv)\n",
    "- kies een geschikte datastructuur en negeer de rij- en kolomkoppen"
   ]
  },
  {
   "cell_type": "markdown",
   "metadata": {
    "slideshow": {
     "slide_type": "slide"
    }
   },
   "source": [
    "## Downloaden van internet\n",
    "\n",
    "- de meeste data vind je tegenwoordig natuurlijk op internet,  \n",
    "dus het zou handig zijn als we data direct van internet kunnen plukken\n",
    "- dat kan, bijvoorbeeld met behulp van de `requests` library  \n",
    "(niet een standard library, maar komt met Anaconda)\n",
    "\n",
    "```python\n",
    "import requests\n",
    "\n",
    "url = (\n",
    "    \"http://real-chart.finance.yahoo.com/table.csv?\"\n",
    "    \"s=MSFT&d=2&e=6&f=2016&g=d&a=2&b=13&c=1986&ignore=.csv\"\n",
    ")\n",
    "req = requests.get(url)\n",
    "if r.status_code == requests.codes.ok:\n",
    "    # req.text levert de (platte) tekst (str) afkomstig van de url\n",
    "    print(req.text[:500])\n",
    "```"
   ]
  },
  {
   "cell_type": "code",
   "execution_count": null,
   "metadata": {
    "collapsed": true
   },
   "outputs": [],
   "source": []
  }
 ],
 "metadata": {
  "celltoolbar": "Slideshow",
  "kernelspec": {
   "display_name": "Python 3",
   "language": "python",
   "name": "python3"
  },
  "language_info": {
   "codemirror_mode": {
    "name": "ipython",
    "version": 3
   },
   "file_extension": ".py",
   "mimetype": "text/x-python",
   "name": "python",
   "nbconvert_exporter": "python",
   "pygments_lexer": "ipython3",
   "version": "3.5.1"
  }
 },
 "nbformat": 4,
 "nbformat_minor": 0
}
