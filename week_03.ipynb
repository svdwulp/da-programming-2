{
 "cells": [
  {
   "cell_type": "markdown",
   "metadata": {
    "slideshow": {
     "slide_type": "slide"
    }
   },
   "source": [
    "# Data Analysis - Programming - 2\n",
    "## Week 3"
   ]
  },
  {
   "cell_type": "markdown",
   "metadata": {
    "slideshow": {
     "slide_type": "fragment"
    }
   },
   "source": [
    "## Onderwerpen week 3\n",
    "\n",
    "- voortgang huiswerk week 2 (spel)\n",
    "- dictionaries"
   ]
  },
  {
   "cell_type": "markdown",
   "metadata": {
    "slideshow": {
     "slide_type": "slide"
    }
   },
   "source": [
    "## Voortgang huiswerk week 2 (spel)\n",
    "\n",
    "- boolean conditions\n",
    "- is prime"
   ]
  },
  {
   "cell_type": "markdown",
   "metadata": {
    "slideshow": {
     "slide_type": "slide"
    }
   },
   "source": [
    "## Dictionaries (1)\n",
    "\n",
    "- in een Python list kun je een veelheid aan elementen opslaan,\n",
    "  die je terug kunt vinden met behulp van een index  \n",
    "  (of de waarde van het element)\n",
    "- zoeken naar een element op index kost nagenoeg geen tijd,  \n",
    "  maar zoeken naar een element met een specifieke waarde duurt lang\n",
    "- de snelle index heeft een vaste nummering (0, 1, 2...)  \n",
    "  en deze nummering is de enige beschikbare index\n",
    "\n",
    "\n",
    "- een dictionary (hash table, associative array) werkt als een woordenboek:  \n",
    "  de index is vrije keuze (elementen moeten wel uniek en onveranderlijk zijn)  \n",
    "  en de bijbehorende waarde is vrij te kiezen"
   ]
  },
  {
   "cell_type": "markdown",
   "metadata": {
    "slideshow": {
     "slide_type": "subslide"
    }
   },
   "source": [
    "## Dictionaries (2)\n",
    "\n",
    "- de index van een element in een dictionary wordt 'key' genoemd,  \n",
    "  het element bij een key is de 'value'\n",
    "\n",
    "Voorbeeld:\n",
    "```python\n",
    "weekdays = {\n",
    "    \"ma\": \"maandag\",\n",
    "    \"di\": \"dinsdag\",\n",
    "    \"wo\": \"woensdag\",\n",
    "    \"do\": \"donderdag\",\n",
    "    \"vr\": \"vrijdag\"\n",
    "}\n",
    "weekdays[\"za\"] = \"zaterdag\"\n",
    "weekdays[\"zo\"] = \"zondag\"\n",
    "\n",
    "print(weekdays[\"wo\"])\n",
    "```"
   ]
  },
  {
   "cell_type": "markdown",
   "metadata": {
    "slideshow": {
     "slide_type": "subslide"
    }
   },
   "source": [
    "## Dictionaries (3)\n",
    "\n",
    "- dictionaries hebben geen intrinsieke volgorde voor de elementen\n",
    "\n",
    "- de keys van een dictionary zijn uniek en onveranderlijk:  \n",
    "  getallen, strings en tuples werken als key,  \n",
    "  maar lists en dictionaries niet"
   ]
  },
  {
   "cell_type": "markdown",
   "metadata": {
    "slideshow": {
     "slide_type": "subslide"
    }
   },
   "source": [
    "## Dictionaries (4)\n",
    "\n",
    "- een nieuw, leeg dictionary wordt als volgt gemaakt:\n",
    "\n",
    "```python\n",
    "weekdays = {}\n",
    "# of, equivalent:\n",
    "weekdays = dict()\n",
    "```\n",
    "\n",
    "- elementen kun je toevoegen met toewijzing (=):\n",
    "\n",
    "```python\n",
    "weekdays[\"zo\"] = \"zondag\"\n",
    "```\n",
    "\n",
    "- en een value krijg je door de dictionary te indexeren met een key:\n",
    "\n",
    "```python\n",
    ">>> print(weekdays[\"zo\"])\n",
    "zondag\n",
    "```"
   ]
  },
  {
   "cell_type": "markdown",
   "metadata": {
    "slideshow": {
     "slide_type": "subslide"
    }
   },
   "source": [
    "## Dictionaries (5)\n",
    "\n",
    "- een element kan verwijderd worden met behulp van de key:\n",
    "\n",
    "```python\n",
    "del weekdays[\"zo\"]\n",
    "```"
   ]
  },
  {
   "cell_type": "markdown",
   "metadata": {
    "slideshow": {
     "slide_type": "subslide"
    }
   },
   "source": [
    "## Dictionaries (6)\n",
    "\n",
    "- je kunt loopen over alles key-value-paren van een dictionary:\n",
    "\n",
    "```python\n",
    "for (abbrev, day) in weekdays.items():\n",
    "    print(\"{}: {}\".format(abbrev, day))\n",
    "```\n",
    "\n",
    "- of alleen over de keys, of alleen de values:\n",
    "```python\n",
    "for abbrev in weekdays.keys():  ## ook: for abbrev in weekdays:\n",
    "    print(abbrev)\n",
    "for abbrev in weekdays.values():\n",
    "    print(abbrev)\n",
    "```"
   ]
  },
  {
   "cell_type": "markdown",
   "metadata": {
    "slideshow": {
     "slide_type": "fragment"
    }
   },
   "source": [
    "- maar let op:  \n",
    "  *key-value-paren in dictionaries zijn niet geordend!*  \n",
    "  al is de volgorde gebruikt in de `.keys()`-functie en `.values()`-functie \n",
    "  wel steeds hetzelfde"
   ]
  },
  {
   "cell_type": "markdown",
   "metadata": {
    "slideshow": {
     "slide_type": "slide"
    }
   },
   "source": [
    "## Opdracht: polynomen\n",
    "\n",
    "In deze opdracht ga je polynomen modelleren:  \n",
    "$$f(x) = 4 x^8 + 6 x^5 - 2 x^2 + 8 x + 11$$\n",
    "\n",
    "1. Modelleer polynomen met behulp van een list  \n",
    "  en probeer enkele polynomen uit te drukken in je model\n",
    "\n",
    "2. Modelleer polynomen met behulp van een dict  \n",
    "  en probeer enkele polynomen uit te drukken in je model\n",
    "  \n",
    "3. Welke verschillen merk je op?"
   ]
  },
  {
   "cell_type": "markdown",
   "metadata": {
    "slideshow": {
     "slide_type": "subslide"
    }
   },
   "source": [
    "## Opdracht: polynomen\n",
    "\n",
    "4. Schrijf een functie die, gegeven een polynoom in het dictionary model  \n",
    "   en een waarde voor $x$, de waarde van de functie in het punt $x$  \n",
    "   teruggeeft\n",
    "\n",
    "5. Schrijf een functie die, gegeven een polynoom in het dictionary model,\n",
    "   de afgeleide van de polynoom teruggeeft\n",
    "\n",
    "6. Schrijf een functie die, gegeven twee polynomen in het dictionary model,\n",
    "   de som van de polynomen teruggeeft als resultaat van de functie-aanroep\n",
    "\n",
    "7. Schrijf een functie die, gegeven twee polynomen in het dictionary model,\n",
    "   het product van de polynomen teruggeeft als functieresultaat"
   ]
  },
  {
   "cell_type": "code",
   "execution_count": null,
   "metadata": {
    "collapsed": true
   },
   "outputs": [],
   "source": []
  }
 ],
 "metadata": {
  "celltoolbar": "Slideshow",
  "kernelspec": {
   "display_name": "Python 3",
   "language": "python",
   "name": "python3"
  },
  "language_info": {
   "codemirror_mode": {
    "name": "ipython",
    "version": 3
   },
   "file_extension": ".py",
   "mimetype": "text/x-python",
   "name": "python",
   "nbconvert_exporter": "python",
   "pygments_lexer": "ipython3",
   "version": "3.5.1"
  }
 },
 "nbformat": 4,
 "nbformat_minor": 0
}
