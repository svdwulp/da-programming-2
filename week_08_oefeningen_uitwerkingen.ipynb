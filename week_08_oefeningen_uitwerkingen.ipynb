{
 "cells": [
  {
   "cell_type": "markdown",
   "metadata": {},
   "source": [
    "# Data Analysis - Programming\n",
    "## Week 8\n",
    "## Oefeningen\n",
    "\n",
    "Bij de onderstaande oefeningen hoort een [zipfile](http://www.flotwiskunde.nl/2008.zip) met 3 bestanden:\n",
    "- `variables.txt` - uitleg over de kolommen in de onderstaande bestanden\n",
    "- `2008.csv` - vluchtdata van vluchten van en naar de US in 2008 (7009729 regels)\n",
    "- `2008_excerpt.csv` - vluchtdata van vluchten van en naar de US in 2008 (eerste 1000 regels van 2008.csv)\n",
    "\n",
    "_Let op:_ probeer het bestand 2008.csv niet met een ander programma dan Python te openen, want dat bestand is groot en dat kunnen de meeste pakketten niet aan."
   ]
  },
  {
   "cell_type": "code",
   "execution_count": 1,
   "metadata": {
    "collapsed": false
   },
   "outputs": [
    {
     "name": "stdout",
     "output_type": "stream",
     "text": [
      "Using matplotlib backend: Qt4Agg\n",
      "Populating the interactive namespace from numpy and matplotlib\n"
     ]
    }
   ],
   "source": [
    "%pylab\n",
    "%matplotlib inline\n",
    "import scipy.stats as st\n",
    "from datetime import datetime"
   ]
  },
  {
   "cell_type": "markdown",
   "metadata": {},
   "source": [
    "### Oefening 1 <img src=\"images/stars_1.png\" alt=\"1 star\" style=\"display: inline; margin-top: -5px\" />\n",
    "\n",
    "Bestudeer het bestand `variables.txt` om te zien welke variabelen (kolommen) in de data aanwezig zijn.  \n",
    "Bekijk het bestand `2008_excerpt.txt` en experimenteer met het inladen van de data in Python.\n",
    "\n",
    "Zodra je ervan overtuigd bent dat je de gegevens in 2008_excerpt.csv soepel in kunt laden, probeer dan de gegevens in 2008.csv in te laden."
   ]
  },
  {
   "cell_type": "code",
   "execution_count": 4,
   "metadata": {
    "collapsed": false
   },
   "outputs": [],
   "source": [
    "# oefening 1\n",
    "\n",
    "filename = \"data/2008_excerpt.csv\"\n",
    "filename = \"data/2008.csv\"  # comment to use excerpt\n",
    "\n",
    "\n",
    "def read_data(filename):\n",
    "    # useful columns: date (yyyy, mm, dd) and arrival time (hhmm)\n",
    "    columns = [0, 1, 2, 6]\n",
    "    lines = []\n",
    "    errors = []\n",
    "    with open(filename, \"r\") as file:\n",
    "        for i, line in enumerate(file):\n",
    "            # filter to speed up processing:\n",
    "            # splitting is expensive, checking for a substring less so\n",
    "            if \",JFK,\" in line:\n",
    "                fields = line.split(\",\")\n",
    "                # flight arrives at JFK (17), is not cancelled (21) or diverted (23)\n",
    "                if fields[17] == \"JFK\" and fields[21] != \"1\" and fields[23] != \"1\":\n",
    "                    try:\n",
    "                        lines.append(np.datetime64(\n",
    "                            \"{:>04}-{:>02}-{:>02}T{:>02}:{:>02}\".format(\n",
    "                                fields[0], fields[1], fields[2],\n",
    "                                int(fields[6]) // 100, int(fields[6]) % 100\n",
    "                            )\n",
    "                        ))\n",
    "                    except:\n",
    "                        if int(fields[6]) // 100 == 24:\n",
    "                            lines.append(np.datetime64(\n",
    "                                \"{:>04}-{:>02}-{:>02}T{:>02}:{:>02}\".format(\n",
    "                                    fields[0], fields[1], fields[2], 0, 0\n",
    "                                )\n",
    "                            ) + np.timedelta64(1, \"D\"))\n",
    "                        else:\n",
    "                            errors.append(\"Invalid values in line {}: {},{},{},{}\".format(\n",
    "                                    i, fields[0], fields[1], fields[2], fields[6]))\n",
    "                        \n",
    "    return np.sort(np.array(lines, dtype=np.datetime64)), errors"
   ]
  },
  {
   "cell_type": "code",
   "execution_count": 5,
   "metadata": {
    "collapsed": false
   },
   "outputs": [
    {
     "name": "stdout",
     "output_type": "stream",
     "text": [
      "1 loop, best of 1: 5.86 s per loop\n"
     ]
    }
   ],
   "source": [
    "%timeit -n 1 -r 1 data, errors = read_data(filename)"
   ]
  },
  {
   "cell_type": "markdown",
   "metadata": {},
   "source": [
    "### Oefening 2 <img src=\"images/stars_1.png\" alt=\"1 star\" style=\"display: inline; margin-top: -5px\" />\n",
    "\n",
    "We zijn geinteresseerd in aankomsttijden van de vluchten op John F. Kennedy Airport, New York.  \n",
    "Hoeveel vluchten kwamen aan op John F. Kennedy Airport in 2008 volgens het bestand 2008.csv?"
   ]
  },
  {
   "cell_type": "code",
   "execution_count": 208,
   "metadata": {
    "collapsed": false
   },
   "outputs": [
    {
     "name": "stdout",
     "output_type": "stream",
     "text": [
      "Number of arrivals at JFK read: 115072\n"
     ]
    }
   ],
   "source": [
    "print(\"Number of arrivals at JFK read: {}\".format(len(data)))"
   ]
  },
  {
   "cell_type": "markdown",
   "metadata": {},
   "source": [
    "### Oefening 3 <img src=\"images/stars_2.png\" alt=\"2 star\" style=\"display: inline; margin-top: -5px\" />\n",
    "\n",
    "Bepaal de aankomsttijden voor alle vluchten die aankwamen op John F. Kennedy Airport in 2008.  \n",
    "Bepaal de tussentijden voor alle vluchten die aankwamen op John F. Kennedy Airport in 2008. Dat wil zeggen: bereken van ieder opeenvolgend paar aankomsten de tijd (in minuten) tussen de aankomsten."
   ]
  },
  {
   "cell_type": "code",
   "execution_count": 209,
   "metadata": {
    "collapsed": false
   },
   "outputs": [],
   "source": [
    "# aankomsttijden zijn al bepaal bij inlezen bestand,\n",
    "# tussentijden zijn nu snel te bepalen\n",
    "diffs = data[1:] - data[:-1]\n",
    "# bij de berekeningen hieronder zijn tussentijden als floating point\n",
    "# handiger dan tussentijden in np.timedelta64\n",
    "diffs = diffs.astype('float')"
   ]
  },
  {
   "cell_type": "markdown",
   "metadata": {},
   "source": [
    "### Oefening 4 <img src=\"images/stars_3.png\" alt=\"3 star\" style=\"display: inline; margin-top: -5px\" />\n",
    "\n",
    "In week 6 heb je geleerd hoe je kunt beoordelen of een verzameling meetpunten normaal verdeeld is.  \n",
    "Vergelijkbare methoden zou je kunnen gebruiken om in te schatten of een variabele exponentieel verdeeld is.  \n",
    "\n",
    "Schrijf Python code waarmee je in kunt schatten of de tussentijden van aankomsten op John F. Kennedy Airport exponentieel vedeeeld zijn."
   ]
  },
  {
   "cell_type": "code",
   "execution_count": 210,
   "metadata": {
    "collapsed": false
   },
   "outputs": [
    {
     "data": {
      "image/png": "[encoded data removed]",
      "text/plain": [
       "<matplotlib.figure.Figure at 0x1dd47e62e10>"
      ]
     },
     "metadata": {},
     "output_type": "display_data"
    }
   ],
   "source": [
    "# Eerste methode van vergelijken distributie:\n",
    "# Genormaliseerd histogram (opp=1) uitzetten\n",
    "# tegen exponentiele distributie met lambda = 1 / mu_data\n",
    "plt.figure(1, figsize=(10, 6))\n",
    "# let op:\n",
    "# histogram toont alleen eerste 99.5% van alle meetwaarden\n",
    "# om te voorkomen dat uitschieters de plot onleesbaar maken\n",
    "counts, bins, patches = plt.hist(\n",
    "    diffs,\n",
    "    bins=20,\n",
    "    range=(0, np.percentile(diffs, 99.5)),\n",
    "    normed=True\n",
    ")\n",
    "X = st.expon(scale=diffs.mean())\n",
    "x = np.linspace(0, 50, 1000)\n",
    "y = X.pdf(x)\n",
    "plt.plot(x, y, color='red')\n",
    "plt.show()"
   ]
  },
  {
   "cell_type": "code",
   "execution_count": 211,
   "metadata": {
    "collapsed": false
   },
   "outputs": [
    {
     "data": {
      "image/png": "[encoded data removed]",
      "text/plain": [
       "<matplotlib.figure.Figure at 0x1dd482a44a8>"
      ]
     },
     "metadata": {},
     "output_type": "display_data"
    }
   ],
   "source": [
    "# Derde methode: qq-plot\n",
    "plt.figure(1, figsize=(10, 6))\n",
    "X = st.expon(scale=diffs.mean())\n",
    "# let op:\n",
    "# plot toont alleen eerste 99.5% van alle meetwaarden\n",
    "# om te voorkomen dat uitschieters de plot bepalen \n",
    "x = sort(diffs[diffs < np.percentile(diffs, 99.5)])\n",
    "probs = linspace(1, len(x), num=len(x)) / len(x)\n",
    "y = X.ppf(probs)\n",
    "plt.plot(x[:-1], y[:-1], \"o \")\n",
    "plt.plot([x.min(), x.max()], [x.min(), x.max()], \"-\")\n",
    "plt.axis('equal')\n",
    "plt.yticks(np.arange(0, x.max() + 10, 10), np.arange(0, x.max() + 10, 10, dtype=int_))\n",
    "plt.xticks(np.arange(0, x.max() + 10, 10), np.arange(0, x.max() + 10, 10, dtype=int_))\n",
    "plt.xlim(0, x.max() + 10)\n",
    "# add boxplot to get an indication of counts of datapoints in plot\n",
    "plt.boxplot(x, vert=True, positions=[-5], widths=[5], manage_xticks=False)\n",
    "plt.show()"
   ]
  },
  {
   "cell_type": "code",
   "execution_count": null,
   "metadata": {
    "collapsed": true
   },
   "outputs": [],
   "source": []
  }
 ],
 "metadata": {
  "kernelspec": {
   "display_name": "Python 3",
   "language": "python",
   "name": "python3"
  },
  "language_info": {
   "codemirror_mode": {
    "name": "ipython",
    "version": 3
   },
   "file_extension": ".py",
   "mimetype": "text/x-python",
   "name": "python",
   "nbconvert_exporter": "python",
   "pygments_lexer": "ipython3",
   "version": "3.5.1"
  }
 },
 "nbformat": 4,
 "nbformat_minor": 0
}
