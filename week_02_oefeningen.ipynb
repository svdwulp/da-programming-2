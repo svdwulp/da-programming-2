{
 "cells": [
  {
   "cell_type": "markdown",
   "metadata": {},
   "source": [
    "# Data Analysis - Programming\n",
    "## Week 2\n",
    "## Oefeningen\n",
    "\n",
    "Voor de onderstaande oefening kun je rustig twee weken gebruiken. In week drie volgen alleen enkele eenvoudige oefeningen.  \n",
    "De verwachting is dat je ongeveer drie uur bezig zult zijn met het maken van deze oefening. "
   ]
  },
  {
   "cell_type": "markdown",
   "metadata": {},
   "source": [
    "### Oefening 1 <img src=\"images/stars_2.png\" alt=\"2 star\" style=\"display: inline; margin-top: -5px\" />\n",
    "\n",
    "Schrijf een programma waarmee twee gebruikers het volgende spel kunnen spelen.  \n",
    "Denk van te voren na hoe zo een programma eruit zou moeten zien. Wat heb je allemaal nodig om het programma vlot te laten verlopen.  \n",
    "Probeer voor je code gaat schrijven eerst de namen van de functies die je gaat maken uit te schrijven.\n",
    "\n",
    "Het spel wordt gespeeld door twee spelers.  \n",
    "De computer genereert een random getal (onder een bepaalde grens, begin maar eens met 100). Steeds mogen spelers daarna ombeurten een priemmacht kiezen die een deler is van het laatste getal (maar niet 1). De volgende speler speelt verder met de rest het getal gedeelt door de priemmacht. De speler die het getal 1 krijgt, verliest.\n",
    "\n",
    "Voorbeeld van het spel:\n",
    "- getal: 56\n",
    "- speler 1: 4 (priemgetal: 2, macht: 2)\n",
    "- nieuw getal: 56 / 4 = 14\n",
    "- speler 2: 7 (priemgetal: 7, macht: 1)\n",
    "- nieuw getal: 14 / 7 = 2\n",
    "- speler 1: 2 (priemgetal: 2, macht: 1)\n",
    "- nieuw getal: 2 / 2 = 1\n",
    "Speler 2 is aan de beurt, krijgt het getal 1 en verliest daarmee.\n"
   ]
  },
  {
   "cell_type": "markdown",
   "metadata": {},
   "source": [
    "## Opmerkingen bij oefening 1\n",
    "\n",
    "- Start de oefening door het spel een paar keer te spelen met iemand anders\n",
    "- Begin je programma op papier en  \n",
    "probeer dan uitputtend te bedenken uit welke onderdelen je programma zal bestaan.  \n",
    "Deze fase zou ongeveer 1/3 van de totale tijd mogen kosten die nodig is om het spel te maken\n",
    "- Schrijf de namen van alle functies en een korte omschrijving van de gewenste functionaliteit in je programma,  \n",
    "zonder er al code bij te schrijven.  \n",
    "Zo krijg je een idee van hoe de delen van het geheel in elkaar steken.  \n",
    "Gebruik eventueel de term `pass` om functies zonder 'body' te gebruiken in je programma:\n",
    "```python\n",
    "def is_prime(n):\n",
    "    # bepaalt of n priem is\n",
    "    # levert een boolean (True: priem, False: samengesteld)\n",
    "    pass\n",
    "```\n",
    "- Ga dan pas de functies een voor een uitwerken.  \n",
    "Daarbij natuurlijk eerst de functies die geen andere functies gebruiken.  \n",
    "Probeer de correcte, verwachte werking van iedere functie te controleren voor je doorgaat met de volgende functie.  \n",
    "Ook dit kost ongeveer 1/3 van de totale tijd om het programma te schrijven.\n",
    "- Test tot slot het totale programma.  \n",
    "Speel het spel zelf en controleer of het werkt zoals je had verwacht.  \n",
    "Laat het spel spelen door andere mensen en kijk of er, voor jou, onverwachte problemen optreden. Repareer deze problemen."
   ]
  },
  {
   "cell_type": "code",
   "execution_count": null,
   "metadata": {
    "collapsed": true
   },
   "outputs": [],
   "source": []
  }
 ],
 "metadata": {
  "kernelspec": {
   "display_name": "Python 3",
   "language": "python",
   "name": "python3"
  },
  "language_info": {
   "codemirror_mode": {
    "name": "ipython",
    "version": 3
   },
   "file_extension": ".py",
   "mimetype": "text/x-python",
   "name": "python",
   "nbconvert_exporter": "python",
   "pygments_lexer": "ipython3",
   "version": "3.5.1"
  }
 },
 "nbformat": 4,
 "nbformat_minor": 0
}
