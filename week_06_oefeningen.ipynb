{
 "cells": [
  {
   "cell_type": "markdown",
   "metadata": {},
   "source": [
    "# Data Analysis - Programming\n",
    "## Week 6\n",
    "## Oefeningen"
   ]
  },
  {
   "cell_type": "markdown",
   "metadata": {},
   "source": [
    "### Oefening 1 <img src=\"images/stars_1.png\" alt=\"1 star\" style=\"display: inline; margin-top: -5px\" />\n",
    "\n",
    "Blader hoofdstuk 4 van \"Python for Data Analysis\" door.\n",
    "\n",
    "Probeer voor jezelf de volgende vragen te beantwoorden:\n",
    "- hoe maak je een nieuwe array\n",
    "- hoe wijs je elementen, rijen en kolommen aan in een array\n",
    "- hoe pas je functies toe op elementen, rijen of kolommen in een array"
   ]
  },
  {
   "cell_type": "markdown",
   "metadata": {},
   "source": [
    "### Oefening 2 <img src=\"images/stars_2.png\" alt=\"2 star\" style=\"display: inline; margin-top: -5px\" />\n",
    "\n",
    "Bij Data Analysis heb je drie methoden geleerd om, op basis van een steekproef, te mogen vermoeden dat een variabele normaal verdeeld is.\n",
    "\n",
    "\n",
    "Schrijf voor iedere methode een functie die je ondersteunt bij het onderzoek van een opgegeven dataset.  \n",
    "De functies nemen één argument, de dataset als een NumPy array, en voeren daarop het onderzoekje uit.  \n",
    "Je functie hoeft geen conclusies te trekken over de normaliteit van de data, maar alleen de kenmerkende gegevens te presenteren, zodat de gebruiker zelf de conclusie kan trekken.\n",
    "\n",
    "Je kunt, om twee vliegen in één klap te slaan, de data van opgave 1 van opgaven van het deel statistiek vinden in `data/opgaven_01.txt`."
   ]
  },
  {
   "cell_type": "markdown",
   "metadata": {
    "collapsed": true
   },
   "source": [
    "### Oefening 3 <img src=\"images/stars_3.png\" alt=\"3 star\" style=\"display: inline; margin-top: -5px\" />\n",
    "\n",
    "Om een beetje feeling te krijgen met zelf verzamelen en verwerken van gegevens, ga je in deze oefening normaliteit van verschillende variabelen onderzoeken. Je krijgt daarbij geen data aangeleverd. Het is de bedoeling dat je zelf de bijbehorende gegevens opzoekt op internet.\n",
    "\n",
    "Onderzoek met behulp van de aangedragen methoden of de volgende variabelen normaal verdeeld zijn:  \n",
    "<span>a.</span> de gemiddelde dagtemperatuur in Nederland in 2015.  \n",
    "<span>b.</span> de slotkoers van de AEX-index in 2015.  \n",
    "<span>c.</span> de lengte (aantal letters) van voornamen van jongens (babynamen) in 2015."
   ]
  },
  {
   "cell_type": "code",
   "execution_count": null,
   "metadata": {
    "collapsed": true
   },
   "outputs": [],
   "source": [
    "# opgave 3a\n"
   ]
  }
 ],
 "metadata": {
  "kernelspec": {
   "display_name": "Python 3",
   "language": "python",
   "name": "python3"
  },
  "language_info": {
   "codemirror_mode": {
    "name": "ipython",
    "version": 3
   },
   "file_extension": ".py",
   "mimetype": "text/x-python",
   "name": "python",
   "nbconvert_exporter": "python",
   "pygments_lexer": "ipython3",
   "version": "3.5.1"
  }
 },
 "nbformat": 4,
 "nbformat_minor": 0
}
